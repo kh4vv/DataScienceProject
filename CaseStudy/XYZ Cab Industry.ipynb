{
 "cells": [
  {
   "cell_type": "markdown",
   "id": "a087efd0",
   "metadata": {},
   "source": [
    "# G2M insight for Cab Investment firm\n",
    "\n",
    "### The Client\n",
    "\n",
    "XYZ is a private firm in US. Due to remarkable growth in the Cab Industry in last few years and multiple key players in the market, it is planning for an investment in Cab industry and as per their Go-to-Market(G2M) strategy they want to understand the market before taking final decision.\n",
    "\n",
    "### Project delivery:\n",
    "\n",
    "You have been provided with multiple data sets that contains information on 2 cab companies. Each file (data set) provided represents different aspects of the customer profile. XYZ is interested in using your actionable insights to help them identify the right company to make their investment.\n",
    "\n",
    "The outcome of your delivery will be a **presentation to XYZ’s Executive team**. This presentation will be judged based on the visuals provided, the quality of your analysis and the value of your recommendations and insights. \n",
    "\n",
    "### Data Set:\n",
    "\n",
    "Time period of data is from 01/31/2016 to 12/31/2018.\n",
    "\n",
    "Below are the list of datasets which are provided for the analysis:\n",
    "\n",
    "**Cab_Data.csv** – this file includes details of transaction for 2 cab companies\n",
    "\n",
    "**Customer_ID.csv** – this is a mapping table that contains a unique identifier which links the customer’s demographic details\n",
    "\n",
    "**Transaction_ID.csv** – this is a mapping table that contains transaction to customer mapping and payment mode\n",
    "\n",
    "**City.csv** – this file contains list of US cities, their population and number of cab users"
   ]
  },
  {
   "cell_type": "markdown",
   "id": "97a5adea",
   "metadata": {},
   "source": [
    "----------------------------------------------------------------------------------------"
   ]
  },
  {
   "cell_type": "markdown",
   "id": "2c8e8be1",
   "metadata": {},
   "source": [
    "## 1. Data Sets Investigation\n",
    "\n",
    "### 1.1 Cab_Data.csv"
   ]
  },
  {
   "cell_type": "code",
   "execution_count": 47,
   "id": "43b23ba8",
   "metadata": {},
   "outputs": [],
   "source": [
    "import pandas as pd\n",
    "import numpy as np"
   ]
  },
  {
   "cell_type": "code",
   "execution_count": 48,
   "id": "fac1e8a4",
   "metadata": {},
   "outputs": [],
   "source": [
    "cab_data = pd.read_csv(\"./Dataset/Cab_Data.csv\")"
   ]
  },
  {
   "cell_type": "code",
   "execution_count": 49,
   "id": "e294fae0",
   "metadata": {},
   "outputs": [
    {
     "data": {
      "text/html": [
       "<div>\n",
       "<style scoped>\n",
       "    .dataframe tbody tr th:only-of-type {\n",
       "        vertical-align: middle;\n",
       "    }\n",
       "\n",
       "    .dataframe tbody tr th {\n",
       "        vertical-align: top;\n",
       "    }\n",
       "\n",
       "    .dataframe thead th {\n",
       "        text-align: right;\n",
       "    }\n",
       "</style>\n",
       "<table border=\"1\" class=\"dataframe\">\n",
       "  <thead>\n",
       "    <tr style=\"text-align: right;\">\n",
       "      <th></th>\n",
       "      <th>Transaction ID</th>\n",
       "      <th>Date of Travel</th>\n",
       "      <th>Company</th>\n",
       "      <th>City</th>\n",
       "      <th>KM Travelled</th>\n",
       "      <th>Price Charged</th>\n",
       "      <th>Cost of Trip</th>\n",
       "    </tr>\n",
       "  </thead>\n",
       "  <tbody>\n",
       "    <tr>\n",
       "      <th>0</th>\n",
       "      <td>10000011</td>\n",
       "      <td>42377</td>\n",
       "      <td>Pink Cab</td>\n",
       "      <td>ATLANTA GA</td>\n",
       "      <td>30.45</td>\n",
       "      <td>370.95</td>\n",
       "      <td>313.635</td>\n",
       "    </tr>\n",
       "    <tr>\n",
       "      <th>1</th>\n",
       "      <td>10000012</td>\n",
       "      <td>42375</td>\n",
       "      <td>Pink Cab</td>\n",
       "      <td>ATLANTA GA</td>\n",
       "      <td>28.62</td>\n",
       "      <td>358.52</td>\n",
       "      <td>334.854</td>\n",
       "    </tr>\n",
       "    <tr>\n",
       "      <th>2</th>\n",
       "      <td>10000013</td>\n",
       "      <td>42371</td>\n",
       "      <td>Pink Cab</td>\n",
       "      <td>ATLANTA GA</td>\n",
       "      <td>9.04</td>\n",
       "      <td>125.20</td>\n",
       "      <td>97.632</td>\n",
       "    </tr>\n",
       "    <tr>\n",
       "      <th>3</th>\n",
       "      <td>10000014</td>\n",
       "      <td>42376</td>\n",
       "      <td>Pink Cab</td>\n",
       "      <td>ATLANTA GA</td>\n",
       "      <td>33.17</td>\n",
       "      <td>377.40</td>\n",
       "      <td>351.602</td>\n",
       "    </tr>\n",
       "    <tr>\n",
       "      <th>4</th>\n",
       "      <td>10000015</td>\n",
       "      <td>42372</td>\n",
       "      <td>Pink Cab</td>\n",
       "      <td>ATLANTA GA</td>\n",
       "      <td>8.73</td>\n",
       "      <td>114.62</td>\n",
       "      <td>97.776</td>\n",
       "    </tr>\n",
       "  </tbody>\n",
       "</table>\n",
       "</div>"
      ],
      "text/plain": [
       "   Transaction ID  Date of Travel   Company        City  KM Travelled  \\\n",
       "0        10000011           42377  Pink Cab  ATLANTA GA         30.45   \n",
       "1        10000012           42375  Pink Cab  ATLANTA GA         28.62   \n",
       "2        10000013           42371  Pink Cab  ATLANTA GA          9.04   \n",
       "3        10000014           42376  Pink Cab  ATLANTA GA         33.17   \n",
       "4        10000015           42372  Pink Cab  ATLANTA GA          8.73   \n",
       "\n",
       "   Price Charged  Cost of Trip  \n",
       "0         370.95       313.635  \n",
       "1         358.52       334.854  \n",
       "2         125.20        97.632  \n",
       "3         377.40       351.602  \n",
       "4         114.62        97.776  "
      ]
     },
     "execution_count": 49,
     "metadata": {},
     "output_type": "execute_result"
    }
   ],
   "source": [
    "cab_data.head()"
   ]
  },
  {
   "cell_type": "code",
   "execution_count": 50,
   "id": "732bd07e",
   "metadata": {},
   "outputs": [
    {
     "data": {
      "text/plain": [
       "(array(['Pink Cab', 'Yellow Cab'], dtype=object),\n",
       " array(['ATLANTA GA', 'AUSTIN TX', 'BOSTON MA', 'CHICAGO IL', 'DALLAS TX',\n",
       "        'DENVER CO', 'LOS ANGELES CA', 'MIAMI FL', 'NASHVILLE TN',\n",
       "        'NEW YORK NY', 'ORANGE COUNTY', 'PHOENIX AZ', 'PITTSBURGH PA',\n",
       "        'SACRAMENTO CA', 'SAN DIEGO CA', 'SEATTLE WA', 'SILICON VALLEY',\n",
       "        'TUCSON AZ', 'WASHINGTON DC'], dtype=object))"
      ]
     },
     "execution_count": 50,
     "metadata": {},
     "output_type": "execute_result"
    }
   ],
   "source": [
    "cab_data[\"Company\"].unique(), cab_data[\"City\"].unique()"
   ]
  },
  {
   "cell_type": "code",
   "execution_count": 51,
   "id": "1f31330f",
   "metadata": {},
   "outputs": [
    {
     "name": "stdout",
     "output_type": "stream",
     "text": [
      "<class 'pandas.core.frame.DataFrame'>\n",
      "RangeIndex: 359392 entries, 0 to 359391\n",
      "Data columns (total 7 columns):\n",
      " #   Column          Non-Null Count   Dtype  \n",
      "---  ------          --------------   -----  \n",
      " 0   Transaction ID  359392 non-null  int64  \n",
      " 1   Date of Travel  359392 non-null  int64  \n",
      " 2   Company         359392 non-null  object \n",
      " 3   City            359392 non-null  object \n",
      " 4   KM Travelled    359392 non-null  float64\n",
      " 5   Price Charged   359392 non-null  float64\n",
      " 6   Cost of Trip    359392 non-null  float64\n",
      "dtypes: float64(3), int64(2), object(2)\n",
      "memory usage: 19.2+ MB\n"
     ]
    }
   ],
   "source": [
    "cab_data.info()"
   ]
  },
  {
   "cell_type": "code",
   "execution_count": 52,
   "id": "cb8760e6",
   "metadata": {},
   "outputs": [
    {
     "data": {
      "text/html": [
       "<div>\n",
       "<style scoped>\n",
       "    .dataframe tbody tr th:only-of-type {\n",
       "        vertical-align: middle;\n",
       "    }\n",
       "\n",
       "    .dataframe tbody tr th {\n",
       "        vertical-align: top;\n",
       "    }\n",
       "\n",
       "    .dataframe thead th {\n",
       "        text-align: right;\n",
       "    }\n",
       "</style>\n",
       "<table border=\"1\" class=\"dataframe\">\n",
       "  <thead>\n",
       "    <tr style=\"text-align: right;\">\n",
       "      <th></th>\n",
       "      <th>KM Travelled</th>\n",
       "      <th>Price Charged</th>\n",
       "      <th>Cost of Trip</th>\n",
       "    </tr>\n",
       "  </thead>\n",
       "  <tbody>\n",
       "    <tr>\n",
       "      <th>count</th>\n",
       "      <td>359392.000000</td>\n",
       "      <td>359392.000000</td>\n",
       "      <td>359392.000000</td>\n",
       "    </tr>\n",
       "    <tr>\n",
       "      <th>mean</th>\n",
       "      <td>22.567254</td>\n",
       "      <td>423.443311</td>\n",
       "      <td>286.190113</td>\n",
       "    </tr>\n",
       "    <tr>\n",
       "      <th>std</th>\n",
       "      <td>12.233526</td>\n",
       "      <td>274.378911</td>\n",
       "      <td>157.993661</td>\n",
       "    </tr>\n",
       "    <tr>\n",
       "      <th>min</th>\n",
       "      <td>1.900000</td>\n",
       "      <td>15.600000</td>\n",
       "      <td>19.000000</td>\n",
       "    </tr>\n",
       "    <tr>\n",
       "      <th>25%</th>\n",
       "      <td>12.000000</td>\n",
       "      <td>206.437500</td>\n",
       "      <td>151.200000</td>\n",
       "    </tr>\n",
       "    <tr>\n",
       "      <th>50%</th>\n",
       "      <td>22.440000</td>\n",
       "      <td>386.360000</td>\n",
       "      <td>282.480000</td>\n",
       "    </tr>\n",
       "    <tr>\n",
       "      <th>75%</th>\n",
       "      <td>32.960000</td>\n",
       "      <td>583.660000</td>\n",
       "      <td>413.683200</td>\n",
       "    </tr>\n",
       "    <tr>\n",
       "      <th>max</th>\n",
       "      <td>48.000000</td>\n",
       "      <td>2048.030000</td>\n",
       "      <td>691.200000</td>\n",
       "    </tr>\n",
       "  </tbody>\n",
       "</table>\n",
       "</div>"
      ],
      "text/plain": [
       "        KM Travelled  Price Charged   Cost of Trip\n",
       "count  359392.000000  359392.000000  359392.000000\n",
       "mean       22.567254     423.443311     286.190113\n",
       "std        12.233526     274.378911     157.993661\n",
       "min         1.900000      15.600000      19.000000\n",
       "25%        12.000000     206.437500     151.200000\n",
       "50%        22.440000     386.360000     282.480000\n",
       "75%        32.960000     583.660000     413.683200\n",
       "max        48.000000    2048.030000     691.200000"
      ]
     },
     "execution_count": 52,
     "metadata": {},
     "output_type": "execute_result"
    }
   ],
   "source": [
    "cab_data[[\"KM Travelled\", \"Price Charged\", \"Cost of Trip\"]].describe()"
   ]
  },
  {
   "cell_type": "code",
   "execution_count": 53,
   "id": "a2a362cc",
   "metadata": {},
   "outputs": [
    {
     "data": {
      "text/html": [
       "<div>\n",
       "<style scoped>\n",
       "    .dataframe tbody tr th:only-of-type {\n",
       "        vertical-align: middle;\n",
       "    }\n",
       "\n",
       "    .dataframe tbody tr th {\n",
       "        vertical-align: top;\n",
       "    }\n",
       "\n",
       "    .dataframe thead th {\n",
       "        text-align: right;\n",
       "    }\n",
       "</style>\n",
       "<table border=\"1\" class=\"dataframe\">\n",
       "  <thead>\n",
       "    <tr style=\"text-align: right;\">\n",
       "      <th></th>\n",
       "      <th>Transaction ID</th>\n",
       "      <th>Date of Travel</th>\n",
       "      <th>Company</th>\n",
       "      <th>City</th>\n",
       "      <th>KM Travelled</th>\n",
       "      <th>Price Charged</th>\n",
       "      <th>Cost of Trip</th>\n",
       "      <th>Date</th>\n",
       "    </tr>\n",
       "  </thead>\n",
       "  <tbody>\n",
       "    <tr>\n",
       "      <th>0</th>\n",
       "      <td>10000011</td>\n",
       "      <td>42377</td>\n",
       "      <td>Pink Cab</td>\n",
       "      <td>ATLANTA GA</td>\n",
       "      <td>30.45</td>\n",
       "      <td>370.95</td>\n",
       "      <td>313.635</td>\n",
       "      <td>2016-01-08</td>\n",
       "    </tr>\n",
       "    <tr>\n",
       "      <th>1</th>\n",
       "      <td>10000012</td>\n",
       "      <td>42375</td>\n",
       "      <td>Pink Cab</td>\n",
       "      <td>ATLANTA GA</td>\n",
       "      <td>28.62</td>\n",
       "      <td>358.52</td>\n",
       "      <td>334.854</td>\n",
       "      <td>2016-01-06</td>\n",
       "    </tr>\n",
       "    <tr>\n",
       "      <th>2</th>\n",
       "      <td>10000013</td>\n",
       "      <td>42371</td>\n",
       "      <td>Pink Cab</td>\n",
       "      <td>ATLANTA GA</td>\n",
       "      <td>9.04</td>\n",
       "      <td>125.20</td>\n",
       "      <td>97.632</td>\n",
       "      <td>2016-01-02</td>\n",
       "    </tr>\n",
       "    <tr>\n",
       "      <th>3</th>\n",
       "      <td>10000014</td>\n",
       "      <td>42376</td>\n",
       "      <td>Pink Cab</td>\n",
       "      <td>ATLANTA GA</td>\n",
       "      <td>33.17</td>\n",
       "      <td>377.40</td>\n",
       "      <td>351.602</td>\n",
       "      <td>2016-01-07</td>\n",
       "    </tr>\n",
       "    <tr>\n",
       "      <th>4</th>\n",
       "      <td>10000015</td>\n",
       "      <td>42372</td>\n",
       "      <td>Pink Cab</td>\n",
       "      <td>ATLANTA GA</td>\n",
       "      <td>8.73</td>\n",
       "      <td>114.62</td>\n",
       "      <td>97.776</td>\n",
       "      <td>2016-01-03</td>\n",
       "    </tr>\n",
       "    <tr>\n",
       "      <th>5</th>\n",
       "      <td>10000016</td>\n",
       "      <td>42376</td>\n",
       "      <td>Pink Cab</td>\n",
       "      <td>ATLANTA GA</td>\n",
       "      <td>6.06</td>\n",
       "      <td>72.43</td>\n",
       "      <td>63.024</td>\n",
       "      <td>2016-01-07</td>\n",
       "    </tr>\n",
       "    <tr>\n",
       "      <th>6</th>\n",
       "      <td>10000017</td>\n",
       "      <td>42372</td>\n",
       "      <td>Pink Cab</td>\n",
       "      <td>AUSTIN TX</td>\n",
       "      <td>44.00</td>\n",
       "      <td>576.15</td>\n",
       "      <td>475.200</td>\n",
       "      <td>2016-01-03</td>\n",
       "    </tr>\n",
       "    <tr>\n",
       "      <th>7</th>\n",
       "      <td>10000018</td>\n",
       "      <td>42376</td>\n",
       "      <td>Pink Cab</td>\n",
       "      <td>AUSTIN TX</td>\n",
       "      <td>35.65</td>\n",
       "      <td>466.10</td>\n",
       "      <td>377.890</td>\n",
       "      <td>2016-01-07</td>\n",
       "    </tr>\n",
       "    <tr>\n",
       "      <th>8</th>\n",
       "      <td>10000019</td>\n",
       "      <td>42381</td>\n",
       "      <td>Pink Cab</td>\n",
       "      <td>BOSTON MA</td>\n",
       "      <td>14.40</td>\n",
       "      <td>191.61</td>\n",
       "      <td>146.880</td>\n",
       "      <td>2016-01-12</td>\n",
       "    </tr>\n",
       "    <tr>\n",
       "      <th>9</th>\n",
       "      <td>10000020</td>\n",
       "      <td>42375</td>\n",
       "      <td>Pink Cab</td>\n",
       "      <td>BOSTON MA</td>\n",
       "      <td>10.89</td>\n",
       "      <td>156.98</td>\n",
       "      <td>113.256</td>\n",
       "      <td>2016-01-06</td>\n",
       "    </tr>\n",
       "    <tr>\n",
       "      <th>10</th>\n",
       "      <td>10000021</td>\n",
       "      <td>42380</td>\n",
       "      <td>Pink Cab</td>\n",
       "      <td>BOSTON MA</td>\n",
       "      <td>39.60</td>\n",
       "      <td>570.83</td>\n",
       "      <td>475.200</td>\n",
       "      <td>2016-01-11</td>\n",
       "    </tr>\n",
       "    <tr>\n",
       "      <th>11</th>\n",
       "      <td>10000022</td>\n",
       "      <td>42375</td>\n",
       "      <td>Pink Cab</td>\n",
       "      <td>BOSTON MA</td>\n",
       "      <td>21.80</td>\n",
       "      <td>317.27</td>\n",
       "      <td>220.180</td>\n",
       "      <td>2016-01-06</td>\n",
       "    </tr>\n",
       "    <tr>\n",
       "      <th>12</th>\n",
       "      <td>10000023</td>\n",
       "      <td>42380</td>\n",
       "      <td>Pink Cab</td>\n",
       "      <td>BOSTON MA</td>\n",
       "      <td>12.00</td>\n",
       "      <td>158.01</td>\n",
       "      <td>134.400</td>\n",
       "      <td>2016-01-11</td>\n",
       "    </tr>\n",
       "    <tr>\n",
       "      <th>13</th>\n",
       "      <td>10000024</td>\n",
       "      <td>42375</td>\n",
       "      <td>Pink Cab</td>\n",
       "      <td>BOSTON MA</td>\n",
       "      <td>32.67</td>\n",
       "      <td>470.94</td>\n",
       "      <td>392.040</td>\n",
       "      <td>2016-01-06</td>\n",
       "    </tr>\n",
       "    <tr>\n",
       "      <th>14</th>\n",
       "      <td>10000025</td>\n",
       "      <td>42377</td>\n",
       "      <td>Pink Cab</td>\n",
       "      <td>BOSTON MA</td>\n",
       "      <td>25.52</td>\n",
       "      <td>360.79</td>\n",
       "      <td>298.584</td>\n",
       "      <td>2016-01-08</td>\n",
       "    </tr>\n",
       "    <tr>\n",
       "      <th>15</th>\n",
       "      <td>10000026</td>\n",
       "      <td>42379</td>\n",
       "      <td>Pink Cab</td>\n",
       "      <td>BOSTON MA</td>\n",
       "      <td>15.54</td>\n",
       "      <td>234.78</td>\n",
       "      <td>169.386</td>\n",
       "      <td>2016-01-10</td>\n",
       "    </tr>\n",
       "    <tr>\n",
       "      <th>16</th>\n",
       "      <td>10000027</td>\n",
       "      <td>42376</td>\n",
       "      <td>Pink Cab</td>\n",
       "      <td>BOSTON MA</td>\n",
       "      <td>6.65</td>\n",
       "      <td>101.39</td>\n",
       "      <td>76.475</td>\n",
       "      <td>2016-01-07</td>\n",
       "    </tr>\n",
       "    <tr>\n",
       "      <th>17</th>\n",
       "      <td>10000028</td>\n",
       "      <td>42377</td>\n",
       "      <td>Pink Cab</td>\n",
       "      <td>BOSTON MA</td>\n",
       "      <td>34.22</td>\n",
       "      <td>498.02</td>\n",
       "      <td>407.218</td>\n",
       "      <td>2016-01-08</td>\n",
       "    </tr>\n",
       "    <tr>\n",
       "      <th>18</th>\n",
       "      <td>10000029</td>\n",
       "      <td>42371</td>\n",
       "      <td>Pink Cab</td>\n",
       "      <td>BOSTON MA</td>\n",
       "      <td>21.34</td>\n",
       "      <td>324.21</td>\n",
       "      <td>226.204</td>\n",
       "      <td>2016-01-02</td>\n",
       "    </tr>\n",
       "    <tr>\n",
       "      <th>19</th>\n",
       "      <td>10000030</td>\n",
       "      <td>42371</td>\n",
       "      <td>Pink Cab</td>\n",
       "      <td>BOSTON MA</td>\n",
       "      <td>41.30</td>\n",
       "      <td>646.06</td>\n",
       "      <td>454.300</td>\n",
       "      <td>2016-01-02</td>\n",
       "    </tr>\n",
       "  </tbody>\n",
       "</table>\n",
       "</div>"
      ],
      "text/plain": [
       "    Transaction ID  Date of Travel   Company        City  KM Travelled  \\\n",
       "0         10000011           42377  Pink Cab  ATLANTA GA         30.45   \n",
       "1         10000012           42375  Pink Cab  ATLANTA GA         28.62   \n",
       "2         10000013           42371  Pink Cab  ATLANTA GA          9.04   \n",
       "3         10000014           42376  Pink Cab  ATLANTA GA         33.17   \n",
       "4         10000015           42372  Pink Cab  ATLANTA GA          8.73   \n",
       "5         10000016           42376  Pink Cab  ATLANTA GA          6.06   \n",
       "6         10000017           42372  Pink Cab   AUSTIN TX         44.00   \n",
       "7         10000018           42376  Pink Cab   AUSTIN TX         35.65   \n",
       "8         10000019           42381  Pink Cab   BOSTON MA         14.40   \n",
       "9         10000020           42375  Pink Cab   BOSTON MA         10.89   \n",
       "10        10000021           42380  Pink Cab   BOSTON MA         39.60   \n",
       "11        10000022           42375  Pink Cab   BOSTON MA         21.80   \n",
       "12        10000023           42380  Pink Cab   BOSTON MA         12.00   \n",
       "13        10000024           42375  Pink Cab   BOSTON MA         32.67   \n",
       "14        10000025           42377  Pink Cab   BOSTON MA         25.52   \n",
       "15        10000026           42379  Pink Cab   BOSTON MA         15.54   \n",
       "16        10000027           42376  Pink Cab   BOSTON MA          6.65   \n",
       "17        10000028           42377  Pink Cab   BOSTON MA         34.22   \n",
       "18        10000029           42371  Pink Cab   BOSTON MA         21.34   \n",
       "19        10000030           42371  Pink Cab   BOSTON MA         41.30   \n",
       "\n",
       "    Price Charged  Cost of Trip       Date  \n",
       "0          370.95       313.635 2016-01-08  \n",
       "1          358.52       334.854 2016-01-06  \n",
       "2          125.20        97.632 2016-01-02  \n",
       "3          377.40       351.602 2016-01-07  \n",
       "4          114.62        97.776 2016-01-03  \n",
       "5           72.43        63.024 2016-01-07  \n",
       "6          576.15       475.200 2016-01-03  \n",
       "7          466.10       377.890 2016-01-07  \n",
       "8          191.61       146.880 2016-01-12  \n",
       "9          156.98       113.256 2016-01-06  \n",
       "10         570.83       475.200 2016-01-11  \n",
       "11         317.27       220.180 2016-01-06  \n",
       "12         158.01       134.400 2016-01-11  \n",
       "13         470.94       392.040 2016-01-06  \n",
       "14         360.79       298.584 2016-01-08  \n",
       "15         234.78       169.386 2016-01-10  \n",
       "16         101.39        76.475 2016-01-07  \n",
       "17         498.02       407.218 2016-01-08  \n",
       "18         324.21       226.204 2016-01-02  \n",
       "19         646.06       454.300 2016-01-02  "
      ]
     },
     "execution_count": 53,
     "metadata": {},
     "output_type": "execute_result"
    }
   ],
   "source": [
    "# Time Analysis - Unit Conversion\n",
    "from datetime import datetime, timedelta\n",
    "def to_date(n):\n",
    "    date_str =(datetime(1900,1,1) + timedelta(n-2)).strftime(\"%d-%m-%Y\")\n",
    "    date_date =  datetime.strptime(date_str, \"%d-%m-%Y\")\n",
    "    return date_date\n",
    "\n",
    "cab_data['Date']=cab_data['Date of Travel'].apply(lambda x:to_date(x))\n",
    "cab_data.head(20) \n",
    "\n",
    "# Check with Excel Date Format => First 20 item Date of Travel2 are same. \n",
    "# Confirm and Verify that my to_date function is Correct."
   ]
  },
  {
   "cell_type": "code",
   "execution_count": 54,
   "id": "e2f7a193",
   "metadata": {},
   "outputs": [
    {
     "name": "stdout",
     "output_type": "stream",
     "text": [
      "<class 'pandas.core.frame.DataFrame'>\n",
      "RangeIndex: 359392 entries, 0 to 359391\n",
      "Data columns (total 8 columns):\n",
      " #   Column          Non-Null Count   Dtype         \n",
      "---  ------          --------------   -----         \n",
      " 0   Transaction ID  359392 non-null  int64         \n",
      " 1   Date of Travel  359392 non-null  int64         \n",
      " 2   Company         359392 non-null  object        \n",
      " 3   City            359392 non-null  object        \n",
      " 4   KM Travelled    359392 non-null  float64       \n",
      " 5   Price Charged   359392 non-null  float64       \n",
      " 6   Cost of Trip    359392 non-null  float64       \n",
      " 7   Date            359392 non-null  datetime64[ns]\n",
      "dtypes: datetime64[ns](1), float64(3), int64(2), object(2)\n",
      "memory usage: 21.9+ MB\n"
     ]
    }
   ],
   "source": [
    "cab_data.info()"
   ]
  },
  {
   "cell_type": "markdown",
   "id": "7b9db26b",
   "metadata": {},
   "source": [
    "### 1.2 Customer_ID.csv"
   ]
  },
  {
   "cell_type": "code",
   "execution_count": 55,
   "id": "4668fdce",
   "metadata": {},
   "outputs": [],
   "source": [
    "cust_ID = pd.read_csv(\"./Dataset/Customer_ID.csv\")"
   ]
  },
  {
   "cell_type": "code",
   "execution_count": 56,
   "id": "0c2ea3f6",
   "metadata": {},
   "outputs": [
    {
     "data": {
      "text/html": [
       "<div>\n",
       "<style scoped>\n",
       "    .dataframe tbody tr th:only-of-type {\n",
       "        vertical-align: middle;\n",
       "    }\n",
       "\n",
       "    .dataframe tbody tr th {\n",
       "        vertical-align: top;\n",
       "    }\n",
       "\n",
       "    .dataframe thead th {\n",
       "        text-align: right;\n",
       "    }\n",
       "</style>\n",
       "<table border=\"1\" class=\"dataframe\">\n",
       "  <thead>\n",
       "    <tr style=\"text-align: right;\">\n",
       "      <th></th>\n",
       "      <th>Customer ID</th>\n",
       "      <th>Gender</th>\n",
       "      <th>Age</th>\n",
       "      <th>Income (USD/Month)</th>\n",
       "    </tr>\n",
       "  </thead>\n",
       "  <tbody>\n",
       "    <tr>\n",
       "      <th>0</th>\n",
       "      <td>29290</td>\n",
       "      <td>Male</td>\n",
       "      <td>28</td>\n",
       "      <td>10813</td>\n",
       "    </tr>\n",
       "    <tr>\n",
       "      <th>1</th>\n",
       "      <td>27703</td>\n",
       "      <td>Male</td>\n",
       "      <td>27</td>\n",
       "      <td>9237</td>\n",
       "    </tr>\n",
       "    <tr>\n",
       "      <th>2</th>\n",
       "      <td>28712</td>\n",
       "      <td>Male</td>\n",
       "      <td>53</td>\n",
       "      <td>11242</td>\n",
       "    </tr>\n",
       "    <tr>\n",
       "      <th>3</th>\n",
       "      <td>28020</td>\n",
       "      <td>Male</td>\n",
       "      <td>23</td>\n",
       "      <td>23327</td>\n",
       "    </tr>\n",
       "    <tr>\n",
       "      <th>4</th>\n",
       "      <td>27182</td>\n",
       "      <td>Male</td>\n",
       "      <td>33</td>\n",
       "      <td>8536</td>\n",
       "    </tr>\n",
       "  </tbody>\n",
       "</table>\n",
       "</div>"
      ],
      "text/plain": [
       "   Customer ID Gender  Age  Income (USD/Month)\n",
       "0        29290   Male   28               10813\n",
       "1        27703   Male   27                9237\n",
       "2        28712   Male   53               11242\n",
       "3        28020   Male   23               23327\n",
       "4        27182   Male   33                8536"
      ]
     },
     "execution_count": 56,
     "metadata": {},
     "output_type": "execute_result"
    }
   ],
   "source": [
    "cust_ID.head()"
   ]
  },
  {
   "cell_type": "code",
   "execution_count": 57,
   "id": "cbc46133",
   "metadata": {},
   "outputs": [
    {
     "name": "stdout",
     "output_type": "stream",
     "text": [
      "<class 'pandas.core.frame.DataFrame'>\n",
      "RangeIndex: 49171 entries, 0 to 49170\n",
      "Data columns (total 4 columns):\n",
      " #   Column              Non-Null Count  Dtype \n",
      "---  ------              --------------  ----- \n",
      " 0   Customer ID         49171 non-null  int64 \n",
      " 1   Gender              49171 non-null  object\n",
      " 2   Age                 49171 non-null  int64 \n",
      " 3   Income (USD/Month)  49171 non-null  int64 \n",
      "dtypes: int64(3), object(1)\n",
      "memory usage: 1.5+ MB\n"
     ]
    }
   ],
   "source": [
    "cust_ID.info()"
   ]
  },
  {
   "cell_type": "code",
   "execution_count": 58,
   "id": "bb749d3d",
   "metadata": {},
   "outputs": [
    {
     "data": {
      "text/plain": [
       "0"
      ]
     },
     "execution_count": 58,
     "metadata": {},
     "output_type": "execute_result"
    }
   ],
   "source": [
    "cust_ID[\"Customer ID\"].duplicated().sum()"
   ]
  },
  {
   "cell_type": "code",
   "execution_count": 59,
   "id": "29e1e1fc",
   "metadata": {},
   "outputs": [
    {
     "data": {
      "text/html": [
       "<div>\n",
       "<style scoped>\n",
       "    .dataframe tbody tr th:only-of-type {\n",
       "        vertical-align: middle;\n",
       "    }\n",
       "\n",
       "    .dataframe tbody tr th {\n",
       "        vertical-align: top;\n",
       "    }\n",
       "\n",
       "    .dataframe thead th {\n",
       "        text-align: right;\n",
       "    }\n",
       "</style>\n",
       "<table border=\"1\" class=\"dataframe\">\n",
       "  <thead>\n",
       "    <tr style=\"text-align: right;\">\n",
       "      <th></th>\n",
       "      <th>Age</th>\n",
       "      <th>Income (USD/Month)</th>\n",
       "    </tr>\n",
       "  </thead>\n",
       "  <tbody>\n",
       "    <tr>\n",
       "      <th>count</th>\n",
       "      <td>49171.000000</td>\n",
       "      <td>49171.000000</td>\n",
       "    </tr>\n",
       "    <tr>\n",
       "      <th>mean</th>\n",
       "      <td>35.363121</td>\n",
       "      <td>15015.631856</td>\n",
       "    </tr>\n",
       "    <tr>\n",
       "      <th>std</th>\n",
       "      <td>12.599066</td>\n",
       "      <td>8002.208253</td>\n",
       "    </tr>\n",
       "    <tr>\n",
       "      <th>min</th>\n",
       "      <td>18.000000</td>\n",
       "      <td>2000.000000</td>\n",
       "    </tr>\n",
       "    <tr>\n",
       "      <th>25%</th>\n",
       "      <td>25.000000</td>\n",
       "      <td>8289.500000</td>\n",
       "    </tr>\n",
       "    <tr>\n",
       "      <th>50%</th>\n",
       "      <td>33.000000</td>\n",
       "      <td>14656.000000</td>\n",
       "    </tr>\n",
       "    <tr>\n",
       "      <th>75%</th>\n",
       "      <td>42.000000</td>\n",
       "      <td>21035.000000</td>\n",
       "    </tr>\n",
       "    <tr>\n",
       "      <th>max</th>\n",
       "      <td>65.000000</td>\n",
       "      <td>35000.000000</td>\n",
       "    </tr>\n",
       "  </tbody>\n",
       "</table>\n",
       "</div>"
      ],
      "text/plain": [
       "                Age  Income (USD/Month)\n",
       "count  49171.000000        49171.000000\n",
       "mean      35.363121        15015.631856\n",
       "std       12.599066         8002.208253\n",
       "min       18.000000         2000.000000\n",
       "25%       25.000000         8289.500000\n",
       "50%       33.000000        14656.000000\n",
       "75%       42.000000        21035.000000\n",
       "max       65.000000        35000.000000"
      ]
     },
     "execution_count": 59,
     "metadata": {},
     "output_type": "execute_result"
    }
   ],
   "source": [
    "cust_ID[[\"Age\", \"Income (USD/Month)\"]].describe()"
   ]
  },
  {
   "cell_type": "markdown",
   "id": "5b681b67",
   "metadata": {},
   "source": [
    "### 1.3 Transaction_ID.csv "
   ]
  },
  {
   "cell_type": "code",
   "execution_count": 60,
   "id": "77a106df",
   "metadata": {},
   "outputs": [],
   "source": [
    "trans_ID = pd.read_csv(\"./Dataset/Transaction_ID.csv\")"
   ]
  },
  {
   "cell_type": "code",
   "execution_count": 61,
   "id": "f5eb3b08",
   "metadata": {},
   "outputs": [
    {
     "data": {
      "text/html": [
       "<div>\n",
       "<style scoped>\n",
       "    .dataframe tbody tr th:only-of-type {\n",
       "        vertical-align: middle;\n",
       "    }\n",
       "\n",
       "    .dataframe tbody tr th {\n",
       "        vertical-align: top;\n",
       "    }\n",
       "\n",
       "    .dataframe thead th {\n",
       "        text-align: right;\n",
       "    }\n",
       "</style>\n",
       "<table border=\"1\" class=\"dataframe\">\n",
       "  <thead>\n",
       "    <tr style=\"text-align: right;\">\n",
       "      <th></th>\n",
       "      <th>Transaction ID</th>\n",
       "      <th>Customer ID</th>\n",
       "      <th>Payment_Mode</th>\n",
       "    </tr>\n",
       "  </thead>\n",
       "  <tbody>\n",
       "    <tr>\n",
       "      <th>0</th>\n",
       "      <td>10000011</td>\n",
       "      <td>29290</td>\n",
       "      <td>Card</td>\n",
       "    </tr>\n",
       "    <tr>\n",
       "      <th>1</th>\n",
       "      <td>10000012</td>\n",
       "      <td>27703</td>\n",
       "      <td>Card</td>\n",
       "    </tr>\n",
       "    <tr>\n",
       "      <th>2</th>\n",
       "      <td>10000013</td>\n",
       "      <td>28712</td>\n",
       "      <td>Cash</td>\n",
       "    </tr>\n",
       "    <tr>\n",
       "      <th>3</th>\n",
       "      <td>10000014</td>\n",
       "      <td>28020</td>\n",
       "      <td>Cash</td>\n",
       "    </tr>\n",
       "    <tr>\n",
       "      <th>4</th>\n",
       "      <td>10000015</td>\n",
       "      <td>27182</td>\n",
       "      <td>Card</td>\n",
       "    </tr>\n",
       "  </tbody>\n",
       "</table>\n",
       "</div>"
      ],
      "text/plain": [
       "   Transaction ID  Customer ID Payment_Mode\n",
       "0        10000011        29290         Card\n",
       "1        10000012        27703         Card\n",
       "2        10000013        28712         Cash\n",
       "3        10000014        28020         Cash\n",
       "4        10000015        27182         Card"
      ]
     },
     "execution_count": 61,
     "metadata": {},
     "output_type": "execute_result"
    }
   ],
   "source": [
    "trans_ID.head()"
   ]
  },
  {
   "cell_type": "code",
   "execution_count": 62,
   "id": "7e8bddac",
   "metadata": {},
   "outputs": [
    {
     "data": {
      "text/plain": [
       "array(['Card', 'Cash'], dtype=object)"
      ]
     },
     "execution_count": 62,
     "metadata": {},
     "output_type": "execute_result"
    }
   ],
   "source": [
    "trans_ID[\"Payment_Mode\"].unique()"
   ]
  },
  {
   "cell_type": "code",
   "execution_count": 106,
   "id": "73217650",
   "metadata": {},
   "outputs": [
    {
     "name": "stdout",
     "output_type": "stream",
     "text": [
      "<class 'pandas.core.frame.DataFrame'>\n",
      "RangeIndex: 440098 entries, 0 to 440097\n",
      "Data columns (total 3 columns):\n",
      " #   Column          Non-Null Count   Dtype \n",
      "---  ------          --------------   ----- \n",
      " 0   Transaction ID  440098 non-null  int64 \n",
      " 1   Customer ID     440098 non-null  int64 \n",
      " 2   Payment_Mode    440098 non-null  object\n",
      "dtypes: int64(2), object(1)\n",
      "memory usage: 10.1+ MB\n"
     ]
    }
   ],
   "source": [
    "trans_ID.info()"
   ]
  },
  {
   "cell_type": "markdown",
   "id": "3a104f22",
   "metadata": {},
   "source": [
    "### 1.4 City.csv "
   ]
  },
  {
   "cell_type": "code",
   "execution_count": 63,
   "id": "1026873d",
   "metadata": {},
   "outputs": [],
   "source": [
    "city = pd.read_csv(\"./Dataset/City.csv\")"
   ]
  },
  {
   "cell_type": "code",
   "execution_count": 64,
   "id": "1b38187b",
   "metadata": {},
   "outputs": [
    {
     "data": {
      "text/html": [
       "<div>\n",
       "<style scoped>\n",
       "    .dataframe tbody tr th:only-of-type {\n",
       "        vertical-align: middle;\n",
       "    }\n",
       "\n",
       "    .dataframe tbody tr th {\n",
       "        vertical-align: top;\n",
       "    }\n",
       "\n",
       "    .dataframe thead th {\n",
       "        text-align: right;\n",
       "    }\n",
       "</style>\n",
       "<table border=\"1\" class=\"dataframe\">\n",
       "  <thead>\n",
       "    <tr style=\"text-align: right;\">\n",
       "      <th></th>\n",
       "      <th>City</th>\n",
       "      <th>Population</th>\n",
       "      <th>Users</th>\n",
       "    </tr>\n",
       "  </thead>\n",
       "  <tbody>\n",
       "    <tr>\n",
       "      <th>0</th>\n",
       "      <td>NEW YORK NY</td>\n",
       "      <td>8,405,837</td>\n",
       "      <td>302,149</td>\n",
       "    </tr>\n",
       "    <tr>\n",
       "      <th>1</th>\n",
       "      <td>CHICAGO IL</td>\n",
       "      <td>1,955,130</td>\n",
       "      <td>164,468</td>\n",
       "    </tr>\n",
       "    <tr>\n",
       "      <th>2</th>\n",
       "      <td>LOS ANGELES CA</td>\n",
       "      <td>1,595,037</td>\n",
       "      <td>144,132</td>\n",
       "    </tr>\n",
       "    <tr>\n",
       "      <th>3</th>\n",
       "      <td>MIAMI FL</td>\n",
       "      <td>1,339,155</td>\n",
       "      <td>17,675</td>\n",
       "    </tr>\n",
       "    <tr>\n",
       "      <th>4</th>\n",
       "      <td>SILICON VALLEY</td>\n",
       "      <td>1,177,609</td>\n",
       "      <td>27,247</td>\n",
       "    </tr>\n",
       "  </tbody>\n",
       "</table>\n",
       "</div>"
      ],
      "text/plain": [
       "             City   Population      Users\n",
       "0     NEW YORK NY   8,405,837    302,149 \n",
       "1      CHICAGO IL   1,955,130    164,468 \n",
       "2  LOS ANGELES CA   1,595,037    144,132 \n",
       "3        MIAMI FL   1,339,155     17,675 \n",
       "4  SILICON VALLEY   1,177,609     27,247 "
      ]
     },
     "execution_count": 64,
     "metadata": {},
     "output_type": "execute_result"
    }
   ],
   "source": [
    "city.head()"
   ]
  },
  {
   "cell_type": "code",
   "execution_count": 65,
   "id": "d3a03e7c",
   "metadata": {},
   "outputs": [
    {
     "data": {
      "text/plain": [
       "array(['NEW YORK NY', 'CHICAGO IL', 'LOS ANGELES CA', 'MIAMI FL',\n",
       "       'SILICON VALLEY', 'ORANGE COUNTY', 'SAN DIEGO CA', 'PHOENIX AZ',\n",
       "       'DALLAS TX', 'ATLANTA GA', 'DENVER CO', 'AUSTIN TX', 'SEATTLE WA',\n",
       "       'TUCSON AZ', 'SAN FRANCISCO CA', 'SACRAMENTO CA', 'PITTSBURGH PA',\n",
       "       'WASHINGTON DC', 'NASHVILLE TN', 'BOSTON MA'], dtype=object)"
      ]
     },
     "execution_count": 65,
     "metadata": {},
     "output_type": "execute_result"
    }
   ],
   "source": [
    "city[\"City\"].unique()"
   ]
  },
  {
   "cell_type": "code",
   "execution_count": 107,
   "id": "90b8fac6",
   "metadata": {},
   "outputs": [
    {
     "name": "stdout",
     "output_type": "stream",
     "text": [
      "<class 'pandas.core.frame.DataFrame'>\n",
      "RangeIndex: 20 entries, 0 to 19\n",
      "Data columns (total 3 columns):\n",
      " #   Column      Non-Null Count  Dtype \n",
      "---  ------      --------------  ----- \n",
      " 0   City        20 non-null     object\n",
      " 1   Population  20 non-null     object\n",
      " 2   Users       20 non-null     object\n",
      "dtypes: object(3)\n",
      "memory usage: 608.0+ bytes\n"
     ]
    }
   ],
   "source": [
    "city.info()"
   ]
  },
  {
   "cell_type": "markdown",
   "id": "f7e94de3",
   "metadata": {},
   "source": [
    "### 1.5 Holiday Data"
   ]
  },
  {
   "cell_type": "code",
   "execution_count": 66,
   "id": "812c45b9",
   "metadata": {},
   "outputs": [],
   "source": [
    "holiday = pd.read_csv(\"./Dataset/US Holiday Dates (2004-2021).csv\")"
   ]
  },
  {
   "cell_type": "code",
   "execution_count": 67,
   "id": "60ba0039",
   "metadata": {},
   "outputs": [
    {
     "data": {
      "text/html": [
       "<div>\n",
       "<style scoped>\n",
       "    .dataframe tbody tr th:only-of-type {\n",
       "        vertical-align: middle;\n",
       "    }\n",
       "\n",
       "    .dataframe tbody tr th {\n",
       "        vertical-align: top;\n",
       "    }\n",
       "\n",
       "    .dataframe thead th {\n",
       "        text-align: right;\n",
       "    }\n",
       "</style>\n",
       "<table border=\"1\" class=\"dataframe\">\n",
       "  <thead>\n",
       "    <tr style=\"text-align: right;\">\n",
       "      <th></th>\n",
       "      <th>Date</th>\n",
       "      <th>Holiday</th>\n",
       "      <th>WeekDay</th>\n",
       "      <th>Month</th>\n",
       "      <th>Day</th>\n",
       "      <th>Year</th>\n",
       "    </tr>\n",
       "  </thead>\n",
       "  <tbody>\n",
       "    <tr>\n",
       "      <th>0</th>\n",
       "      <td>2004-07-04</td>\n",
       "      <td>4th of July</td>\n",
       "      <td>Sunday</td>\n",
       "      <td>7</td>\n",
       "      <td>4</td>\n",
       "      <td>2004</td>\n",
       "    </tr>\n",
       "    <tr>\n",
       "      <th>1</th>\n",
       "      <td>2005-07-04</td>\n",
       "      <td>4th of July</td>\n",
       "      <td>Monday</td>\n",
       "      <td>7</td>\n",
       "      <td>4</td>\n",
       "      <td>2005</td>\n",
       "    </tr>\n",
       "    <tr>\n",
       "      <th>2</th>\n",
       "      <td>2006-07-04</td>\n",
       "      <td>4th of July</td>\n",
       "      <td>Tuesday</td>\n",
       "      <td>7</td>\n",
       "      <td>4</td>\n",
       "      <td>2006</td>\n",
       "    </tr>\n",
       "    <tr>\n",
       "      <th>3</th>\n",
       "      <td>2007-07-04</td>\n",
       "      <td>4th of July</td>\n",
       "      <td>Wednesday</td>\n",
       "      <td>7</td>\n",
       "      <td>4</td>\n",
       "      <td>2007</td>\n",
       "    </tr>\n",
       "    <tr>\n",
       "      <th>4</th>\n",
       "      <td>2008-07-04</td>\n",
       "      <td>4th of July</td>\n",
       "      <td>Friday</td>\n",
       "      <td>7</td>\n",
       "      <td>4</td>\n",
       "      <td>2008</td>\n",
       "    </tr>\n",
       "  </tbody>\n",
       "</table>\n",
       "</div>"
      ],
      "text/plain": [
       "         Date      Holiday    WeekDay  Month  Day  Year\n",
       "0  2004-07-04  4th of July     Sunday      7    4  2004\n",
       "1  2005-07-04  4th of July     Monday      7    4  2005\n",
       "2  2006-07-04  4th of July    Tuesday      7    4  2006\n",
       "3  2007-07-04  4th of July  Wednesday      7    4  2007\n",
       "4  2008-07-04  4th of July     Friday      7    4  2008"
      ]
     },
     "execution_count": 67,
     "metadata": {},
     "output_type": "execute_result"
    }
   ],
   "source": [
    "holiday.head()"
   ]
  },
  {
   "cell_type": "code",
   "execution_count": 68,
   "id": "268e5068",
   "metadata": {},
   "outputs": [
    {
     "name": "stdout",
     "output_type": "stream",
     "text": [
      "<class 'pandas.core.frame.DataFrame'>\n",
      "RangeIndex: 342 entries, 0 to 341\n",
      "Data columns (total 6 columns):\n",
      " #   Column   Non-Null Count  Dtype \n",
      "---  ------   --------------  ----- \n",
      " 0   Date     342 non-null    object\n",
      " 1   Holiday  342 non-null    object\n",
      " 2   WeekDay  342 non-null    object\n",
      " 3   Month    342 non-null    int64 \n",
      " 4   Day      342 non-null    int64 \n",
      " 5   Year     342 non-null    int64 \n",
      "dtypes: int64(3), object(3)\n",
      "memory usage: 16.2+ KB\n"
     ]
    }
   ],
   "source": [
    "holiday.info()"
   ]
  },
  {
   "cell_type": "code",
   "execution_count": 69,
   "id": "69246495",
   "metadata": {},
   "outputs": [
    {
     "name": "stdout",
     "output_type": "stream",
     "text": [
      "<class 'pandas.core.frame.DataFrame'>\n",
      "RangeIndex: 342 entries, 0 to 341\n",
      "Data columns (total 6 columns):\n",
      " #   Column   Non-Null Count  Dtype         \n",
      "---  ------   --------------  -----         \n",
      " 0   Date     342 non-null    datetime64[ns]\n",
      " 1   Holiday  342 non-null    object        \n",
      " 2   WeekDay  342 non-null    object        \n",
      " 3   Month    342 non-null    int64         \n",
      " 4   Day      342 non-null    int64         \n",
      " 5   Year     342 non-null    int64         \n",
      "dtypes: datetime64[ns](1), int64(3), object(2)\n",
      "memory usage: 16.2+ KB\n"
     ]
    }
   ],
   "source": [
    "holiday['Date'] = pd.to_datetime(holiday['Date'])\n",
    "holiday.info()"
   ]
  },
  {
   "cell_type": "code",
   "execution_count": 70,
   "id": "56e9d06b",
   "metadata": {},
   "outputs": [
    {
     "data": {
      "text/html": [
       "<div>\n",
       "<style scoped>\n",
       "    .dataframe tbody tr th:only-of-type {\n",
       "        vertical-align: middle;\n",
       "    }\n",
       "\n",
       "    .dataframe tbody tr th {\n",
       "        vertical-align: top;\n",
       "    }\n",
       "\n",
       "    .dataframe thead th {\n",
       "        text-align: right;\n",
       "    }\n",
       "</style>\n",
       "<table border=\"1\" class=\"dataframe\">\n",
       "  <thead>\n",
       "    <tr style=\"text-align: right;\">\n",
       "      <th></th>\n",
       "      <th>Date</th>\n",
       "      <th>Holiday</th>\n",
       "      <th>WeekDay</th>\n",
       "      <th>Month</th>\n",
       "      <th>Day</th>\n",
       "      <th>Year</th>\n",
       "    </tr>\n",
       "  </thead>\n",
       "  <tbody>\n",
       "    <tr>\n",
       "      <th>0</th>\n",
       "      <td>2004-07-04</td>\n",
       "      <td>4th of July</td>\n",
       "      <td>Sunday</td>\n",
       "      <td>7</td>\n",
       "      <td>4</td>\n",
       "      <td>2004</td>\n",
       "    </tr>\n",
       "    <tr>\n",
       "      <th>1</th>\n",
       "      <td>2005-07-04</td>\n",
       "      <td>4th of July</td>\n",
       "      <td>Monday</td>\n",
       "      <td>7</td>\n",
       "      <td>4</td>\n",
       "      <td>2005</td>\n",
       "    </tr>\n",
       "    <tr>\n",
       "      <th>2</th>\n",
       "      <td>2006-07-04</td>\n",
       "      <td>4th of July</td>\n",
       "      <td>Tuesday</td>\n",
       "      <td>7</td>\n",
       "      <td>4</td>\n",
       "      <td>2006</td>\n",
       "    </tr>\n",
       "    <tr>\n",
       "      <th>3</th>\n",
       "      <td>2007-07-04</td>\n",
       "      <td>4th of July</td>\n",
       "      <td>Wednesday</td>\n",
       "      <td>7</td>\n",
       "      <td>4</td>\n",
       "      <td>2007</td>\n",
       "    </tr>\n",
       "    <tr>\n",
       "      <th>4</th>\n",
       "      <td>2008-07-04</td>\n",
       "      <td>4th of July</td>\n",
       "      <td>Friday</td>\n",
       "      <td>7</td>\n",
       "      <td>4</td>\n",
       "      <td>2008</td>\n",
       "    </tr>\n",
       "  </tbody>\n",
       "</table>\n",
       "</div>"
      ],
      "text/plain": [
       "        Date      Holiday    WeekDay  Month  Day  Year\n",
       "0 2004-07-04  4th of July     Sunday      7    4  2004\n",
       "1 2005-07-04  4th of July     Monday      7    4  2005\n",
       "2 2006-07-04  4th of July    Tuesday      7    4  2006\n",
       "3 2007-07-04  4th of July  Wednesday      7    4  2007\n",
       "4 2008-07-04  4th of July     Friday      7    4  2008"
      ]
     },
     "execution_count": 70,
     "metadata": {},
     "output_type": "execute_result"
    }
   ],
   "source": [
    "holiday.head()"
   ]
  },
  {
   "cell_type": "markdown",
   "id": "e7dbcbcd",
   "metadata": {},
   "source": [
    "### 1.6 Merging all dataset to One"
   ]
  },
  {
   "cell_type": "code",
   "execution_count": 71,
   "id": "c0149187",
   "metadata": {},
   "outputs": [],
   "source": [
    "df = pd.merge(cab_data, trans_ID, on = \"Transaction ID\")"
   ]
  },
  {
   "cell_type": "code",
   "execution_count": 72,
   "id": "7d62de85",
   "metadata": {},
   "outputs": [
    {
     "data": {
      "text/html": [
       "<div>\n",
       "<style scoped>\n",
       "    .dataframe tbody tr th:only-of-type {\n",
       "        vertical-align: middle;\n",
       "    }\n",
       "\n",
       "    .dataframe tbody tr th {\n",
       "        vertical-align: top;\n",
       "    }\n",
       "\n",
       "    .dataframe thead th {\n",
       "        text-align: right;\n",
       "    }\n",
       "</style>\n",
       "<table border=\"1\" class=\"dataframe\">\n",
       "  <thead>\n",
       "    <tr style=\"text-align: right;\">\n",
       "      <th></th>\n",
       "      <th>Transaction ID</th>\n",
       "      <th>Date of Travel</th>\n",
       "      <th>Company</th>\n",
       "      <th>City</th>\n",
       "      <th>KM Travelled</th>\n",
       "      <th>Price Charged</th>\n",
       "      <th>Cost of Trip</th>\n",
       "      <th>Date</th>\n",
       "      <th>Customer ID</th>\n",
       "      <th>Payment_Mode</th>\n",
       "    </tr>\n",
       "  </thead>\n",
       "  <tbody>\n",
       "    <tr>\n",
       "      <th>0</th>\n",
       "      <td>10000011</td>\n",
       "      <td>42377</td>\n",
       "      <td>Pink Cab</td>\n",
       "      <td>ATLANTA GA</td>\n",
       "      <td>30.45</td>\n",
       "      <td>370.95</td>\n",
       "      <td>313.635</td>\n",
       "      <td>2016-01-08</td>\n",
       "      <td>29290</td>\n",
       "      <td>Card</td>\n",
       "    </tr>\n",
       "    <tr>\n",
       "      <th>1</th>\n",
       "      <td>10000012</td>\n",
       "      <td>42375</td>\n",
       "      <td>Pink Cab</td>\n",
       "      <td>ATLANTA GA</td>\n",
       "      <td>28.62</td>\n",
       "      <td>358.52</td>\n",
       "      <td>334.854</td>\n",
       "      <td>2016-01-06</td>\n",
       "      <td>27703</td>\n",
       "      <td>Card</td>\n",
       "    </tr>\n",
       "    <tr>\n",
       "      <th>2</th>\n",
       "      <td>10000013</td>\n",
       "      <td>42371</td>\n",
       "      <td>Pink Cab</td>\n",
       "      <td>ATLANTA GA</td>\n",
       "      <td>9.04</td>\n",
       "      <td>125.20</td>\n",
       "      <td>97.632</td>\n",
       "      <td>2016-01-02</td>\n",
       "      <td>28712</td>\n",
       "      <td>Cash</td>\n",
       "    </tr>\n",
       "    <tr>\n",
       "      <th>3</th>\n",
       "      <td>10000014</td>\n",
       "      <td>42376</td>\n",
       "      <td>Pink Cab</td>\n",
       "      <td>ATLANTA GA</td>\n",
       "      <td>33.17</td>\n",
       "      <td>377.40</td>\n",
       "      <td>351.602</td>\n",
       "      <td>2016-01-07</td>\n",
       "      <td>28020</td>\n",
       "      <td>Cash</td>\n",
       "    </tr>\n",
       "    <tr>\n",
       "      <th>4</th>\n",
       "      <td>10000015</td>\n",
       "      <td>42372</td>\n",
       "      <td>Pink Cab</td>\n",
       "      <td>ATLANTA GA</td>\n",
       "      <td>8.73</td>\n",
       "      <td>114.62</td>\n",
       "      <td>97.776</td>\n",
       "      <td>2016-01-03</td>\n",
       "      <td>27182</td>\n",
       "      <td>Card</td>\n",
       "    </tr>\n",
       "  </tbody>\n",
       "</table>\n",
       "</div>"
      ],
      "text/plain": [
       "   Transaction ID  Date of Travel   Company        City  KM Travelled  \\\n",
       "0        10000011           42377  Pink Cab  ATLANTA GA         30.45   \n",
       "1        10000012           42375  Pink Cab  ATLANTA GA         28.62   \n",
       "2        10000013           42371  Pink Cab  ATLANTA GA          9.04   \n",
       "3        10000014           42376  Pink Cab  ATLANTA GA         33.17   \n",
       "4        10000015           42372  Pink Cab  ATLANTA GA          8.73   \n",
       "\n",
       "   Price Charged  Cost of Trip       Date  Customer ID Payment_Mode  \n",
       "0         370.95       313.635 2016-01-08        29290         Card  \n",
       "1         358.52       334.854 2016-01-06        27703         Card  \n",
       "2         125.20        97.632 2016-01-02        28712         Cash  \n",
       "3         377.40       351.602 2016-01-07        28020         Cash  \n",
       "4         114.62        97.776 2016-01-03        27182         Card  "
      ]
     },
     "execution_count": 72,
     "metadata": {},
     "output_type": "execute_result"
    }
   ],
   "source": [
    "df.head()"
   ]
  },
  {
   "cell_type": "code",
   "execution_count": 73,
   "id": "c7c75e77",
   "metadata": {},
   "outputs": [],
   "source": [
    "df = pd.merge(df, cust_ID, on = \"Customer ID\")"
   ]
  },
  {
   "cell_type": "code",
   "execution_count": 74,
   "id": "5c518041",
   "metadata": {},
   "outputs": [
    {
     "data": {
      "text/html": [
       "<div>\n",
       "<style scoped>\n",
       "    .dataframe tbody tr th:only-of-type {\n",
       "        vertical-align: middle;\n",
       "    }\n",
       "\n",
       "    .dataframe tbody tr th {\n",
       "        vertical-align: top;\n",
       "    }\n",
       "\n",
       "    .dataframe thead th {\n",
       "        text-align: right;\n",
       "    }\n",
       "</style>\n",
       "<table border=\"1\" class=\"dataframe\">\n",
       "  <thead>\n",
       "    <tr style=\"text-align: right;\">\n",
       "      <th></th>\n",
       "      <th>Transaction ID</th>\n",
       "      <th>Date of Travel</th>\n",
       "      <th>Company</th>\n",
       "      <th>City</th>\n",
       "      <th>KM Travelled</th>\n",
       "      <th>Price Charged</th>\n",
       "      <th>Cost of Trip</th>\n",
       "      <th>Date</th>\n",
       "      <th>Customer ID</th>\n",
       "      <th>Payment_Mode</th>\n",
       "      <th>Gender</th>\n",
       "      <th>Age</th>\n",
       "      <th>Income (USD/Month)</th>\n",
       "    </tr>\n",
       "  </thead>\n",
       "  <tbody>\n",
       "    <tr>\n",
       "      <th>0</th>\n",
       "      <td>10000011</td>\n",
       "      <td>42377</td>\n",
       "      <td>Pink Cab</td>\n",
       "      <td>ATLANTA GA</td>\n",
       "      <td>30.45</td>\n",
       "      <td>370.95</td>\n",
       "      <td>313.6350</td>\n",
       "      <td>2016-01-08</td>\n",
       "      <td>29290</td>\n",
       "      <td>Card</td>\n",
       "      <td>Male</td>\n",
       "      <td>28</td>\n",
       "      <td>10813</td>\n",
       "    </tr>\n",
       "    <tr>\n",
       "      <th>1</th>\n",
       "      <td>10351127</td>\n",
       "      <td>43302</td>\n",
       "      <td>Yellow Cab</td>\n",
       "      <td>ATLANTA GA</td>\n",
       "      <td>26.19</td>\n",
       "      <td>598.70</td>\n",
       "      <td>317.4228</td>\n",
       "      <td>2018-07-21</td>\n",
       "      <td>29290</td>\n",
       "      <td>Cash</td>\n",
       "      <td>Male</td>\n",
       "      <td>28</td>\n",
       "      <td>10813</td>\n",
       "    </tr>\n",
       "    <tr>\n",
       "      <th>2</th>\n",
       "      <td>10412921</td>\n",
       "      <td>43427</td>\n",
       "      <td>Yellow Cab</td>\n",
       "      <td>ATLANTA GA</td>\n",
       "      <td>42.55</td>\n",
       "      <td>792.05</td>\n",
       "      <td>597.4020</td>\n",
       "      <td>2018-11-23</td>\n",
       "      <td>29290</td>\n",
       "      <td>Card</td>\n",
       "      <td>Male</td>\n",
       "      <td>28</td>\n",
       "      <td>10813</td>\n",
       "    </tr>\n",
       "    <tr>\n",
       "      <th>3</th>\n",
       "      <td>10000012</td>\n",
       "      <td>42375</td>\n",
       "      <td>Pink Cab</td>\n",
       "      <td>ATLANTA GA</td>\n",
       "      <td>28.62</td>\n",
       "      <td>358.52</td>\n",
       "      <td>334.8540</td>\n",
       "      <td>2016-01-06</td>\n",
       "      <td>27703</td>\n",
       "      <td>Card</td>\n",
       "      <td>Male</td>\n",
       "      <td>27</td>\n",
       "      <td>9237</td>\n",
       "    </tr>\n",
       "    <tr>\n",
       "      <th>4</th>\n",
       "      <td>10320494</td>\n",
       "      <td>43211</td>\n",
       "      <td>Yellow Cab</td>\n",
       "      <td>ATLANTA GA</td>\n",
       "      <td>36.38</td>\n",
       "      <td>721.10</td>\n",
       "      <td>467.1192</td>\n",
       "      <td>2018-04-21</td>\n",
       "      <td>27703</td>\n",
       "      <td>Card</td>\n",
       "      <td>Male</td>\n",
       "      <td>27</td>\n",
       "      <td>9237</td>\n",
       "    </tr>\n",
       "  </tbody>\n",
       "</table>\n",
       "</div>"
      ],
      "text/plain": [
       "   Transaction ID  Date of Travel     Company        City  KM Travelled  \\\n",
       "0        10000011           42377    Pink Cab  ATLANTA GA         30.45   \n",
       "1        10351127           43302  Yellow Cab  ATLANTA GA         26.19   \n",
       "2        10412921           43427  Yellow Cab  ATLANTA GA         42.55   \n",
       "3        10000012           42375    Pink Cab  ATLANTA GA         28.62   \n",
       "4        10320494           43211  Yellow Cab  ATLANTA GA         36.38   \n",
       "\n",
       "   Price Charged  Cost of Trip       Date  Customer ID Payment_Mode Gender  \\\n",
       "0         370.95      313.6350 2016-01-08        29290         Card   Male   \n",
       "1         598.70      317.4228 2018-07-21        29290         Cash   Male   \n",
       "2         792.05      597.4020 2018-11-23        29290         Card   Male   \n",
       "3         358.52      334.8540 2016-01-06        27703         Card   Male   \n",
       "4         721.10      467.1192 2018-04-21        27703         Card   Male   \n",
       "\n",
       "   Age  Income (USD/Month)  \n",
       "0   28               10813  \n",
       "1   28               10813  \n",
       "2   28               10813  \n",
       "3   27                9237  \n",
       "4   27                9237  "
      ]
     },
     "execution_count": 74,
     "metadata": {},
     "output_type": "execute_result"
    }
   ],
   "source": [
    "df.head()"
   ]
  },
  {
   "cell_type": "code",
   "execution_count": 75,
   "id": "f69288b7",
   "metadata": {},
   "outputs": [],
   "source": [
    "df = pd.merge(df, city, on = \"City\")"
   ]
  },
  {
   "cell_type": "code",
   "execution_count": 76,
   "id": "6014342c",
   "metadata": {},
   "outputs": [
    {
     "data": {
      "text/html": [
       "<div>\n",
       "<style scoped>\n",
       "    .dataframe tbody tr th:only-of-type {\n",
       "        vertical-align: middle;\n",
       "    }\n",
       "\n",
       "    .dataframe tbody tr th {\n",
       "        vertical-align: top;\n",
       "    }\n",
       "\n",
       "    .dataframe thead th {\n",
       "        text-align: right;\n",
       "    }\n",
       "</style>\n",
       "<table border=\"1\" class=\"dataframe\">\n",
       "  <thead>\n",
       "    <tr style=\"text-align: right;\">\n",
       "      <th></th>\n",
       "      <th>Transaction ID</th>\n",
       "      <th>Date of Travel</th>\n",
       "      <th>Company</th>\n",
       "      <th>City</th>\n",
       "      <th>KM Travelled</th>\n",
       "      <th>Price Charged</th>\n",
       "      <th>Cost of Trip</th>\n",
       "      <th>Date</th>\n",
       "      <th>Customer ID</th>\n",
       "      <th>Payment_Mode</th>\n",
       "      <th>Gender</th>\n",
       "      <th>Age</th>\n",
       "      <th>Income (USD/Month)</th>\n",
       "      <th>Population</th>\n",
       "      <th>Users</th>\n",
       "    </tr>\n",
       "  </thead>\n",
       "  <tbody>\n",
       "    <tr>\n",
       "      <th>0</th>\n",
       "      <td>10000011</td>\n",
       "      <td>42377</td>\n",
       "      <td>Pink Cab</td>\n",
       "      <td>ATLANTA GA</td>\n",
       "      <td>30.45</td>\n",
       "      <td>370.95</td>\n",
       "      <td>313.6350</td>\n",
       "      <td>2016-01-08</td>\n",
       "      <td>29290</td>\n",
       "      <td>Card</td>\n",
       "      <td>Male</td>\n",
       "      <td>28</td>\n",
       "      <td>10813</td>\n",
       "      <td>814,885</td>\n",
       "      <td>24,701</td>\n",
       "    </tr>\n",
       "    <tr>\n",
       "      <th>1</th>\n",
       "      <td>10351127</td>\n",
       "      <td>43302</td>\n",
       "      <td>Yellow Cab</td>\n",
       "      <td>ATLANTA GA</td>\n",
       "      <td>26.19</td>\n",
       "      <td>598.70</td>\n",
       "      <td>317.4228</td>\n",
       "      <td>2018-07-21</td>\n",
       "      <td>29290</td>\n",
       "      <td>Cash</td>\n",
       "      <td>Male</td>\n",
       "      <td>28</td>\n",
       "      <td>10813</td>\n",
       "      <td>814,885</td>\n",
       "      <td>24,701</td>\n",
       "    </tr>\n",
       "    <tr>\n",
       "      <th>2</th>\n",
       "      <td>10412921</td>\n",
       "      <td>43427</td>\n",
       "      <td>Yellow Cab</td>\n",
       "      <td>ATLANTA GA</td>\n",
       "      <td>42.55</td>\n",
       "      <td>792.05</td>\n",
       "      <td>597.4020</td>\n",
       "      <td>2018-11-23</td>\n",
       "      <td>29290</td>\n",
       "      <td>Card</td>\n",
       "      <td>Male</td>\n",
       "      <td>28</td>\n",
       "      <td>10813</td>\n",
       "      <td>814,885</td>\n",
       "      <td>24,701</td>\n",
       "    </tr>\n",
       "    <tr>\n",
       "      <th>3</th>\n",
       "      <td>10000012</td>\n",
       "      <td>42375</td>\n",
       "      <td>Pink Cab</td>\n",
       "      <td>ATLANTA GA</td>\n",
       "      <td>28.62</td>\n",
       "      <td>358.52</td>\n",
       "      <td>334.8540</td>\n",
       "      <td>2016-01-06</td>\n",
       "      <td>27703</td>\n",
       "      <td>Card</td>\n",
       "      <td>Male</td>\n",
       "      <td>27</td>\n",
       "      <td>9237</td>\n",
       "      <td>814,885</td>\n",
       "      <td>24,701</td>\n",
       "    </tr>\n",
       "    <tr>\n",
       "      <th>4</th>\n",
       "      <td>10320494</td>\n",
       "      <td>43211</td>\n",
       "      <td>Yellow Cab</td>\n",
       "      <td>ATLANTA GA</td>\n",
       "      <td>36.38</td>\n",
       "      <td>721.10</td>\n",
       "      <td>467.1192</td>\n",
       "      <td>2018-04-21</td>\n",
       "      <td>27703</td>\n",
       "      <td>Card</td>\n",
       "      <td>Male</td>\n",
       "      <td>27</td>\n",
       "      <td>9237</td>\n",
       "      <td>814,885</td>\n",
       "      <td>24,701</td>\n",
       "    </tr>\n",
       "  </tbody>\n",
       "</table>\n",
       "</div>"
      ],
      "text/plain": [
       "   Transaction ID  Date of Travel     Company        City  KM Travelled  \\\n",
       "0        10000011           42377    Pink Cab  ATLANTA GA         30.45   \n",
       "1        10351127           43302  Yellow Cab  ATLANTA GA         26.19   \n",
       "2        10412921           43427  Yellow Cab  ATLANTA GA         42.55   \n",
       "3        10000012           42375    Pink Cab  ATLANTA GA         28.62   \n",
       "4        10320494           43211  Yellow Cab  ATLANTA GA         36.38   \n",
       "\n",
       "   Price Charged  Cost of Trip       Date  Customer ID Payment_Mode Gender  \\\n",
       "0         370.95      313.6350 2016-01-08        29290         Card   Male   \n",
       "1         598.70      317.4228 2018-07-21        29290         Cash   Male   \n",
       "2         792.05      597.4020 2018-11-23        29290         Card   Male   \n",
       "3         358.52      334.8540 2016-01-06        27703         Card   Male   \n",
       "4         721.10      467.1192 2018-04-21        27703         Card   Male   \n",
       "\n",
       "   Age  Income (USD/Month) Population     Users  \n",
       "0   28               10813   814,885    24,701   \n",
       "1   28               10813   814,885    24,701   \n",
       "2   28               10813   814,885    24,701   \n",
       "3   27                9237   814,885    24,701   \n",
       "4   27                9237   814,885    24,701   "
      ]
     },
     "execution_count": 76,
     "metadata": {},
     "output_type": "execute_result"
    }
   ],
   "source": [
    "df.head()"
   ]
  },
  {
   "cell_type": "code",
   "execution_count": 81,
   "id": "3284c4f6",
   "metadata": {},
   "outputs": [],
   "source": [
    "df['holiday'] = cab_data['Date'].isin(holiday['Date']).apply(lambda x: 1 if x == True else 0)"
   ]
  },
  {
   "cell_type": "code",
   "execution_count": 82,
   "id": "ee759b7f",
   "metadata": {},
   "outputs": [
    {
     "data": {
      "text/html": [
       "<div>\n",
       "<style scoped>\n",
       "    .dataframe tbody tr th:only-of-type {\n",
       "        vertical-align: middle;\n",
       "    }\n",
       "\n",
       "    .dataframe tbody tr th {\n",
       "        vertical-align: top;\n",
       "    }\n",
       "\n",
       "    .dataframe thead th {\n",
       "        text-align: right;\n",
       "    }\n",
       "</style>\n",
       "<table border=\"1\" class=\"dataframe\">\n",
       "  <thead>\n",
       "    <tr style=\"text-align: right;\">\n",
       "      <th></th>\n",
       "      <th>Transaction ID</th>\n",
       "      <th>Date of Travel</th>\n",
       "      <th>Company</th>\n",
       "      <th>City</th>\n",
       "      <th>KM Travelled</th>\n",
       "      <th>Price Charged</th>\n",
       "      <th>Cost of Trip</th>\n",
       "      <th>Date</th>\n",
       "      <th>Customer ID</th>\n",
       "      <th>Payment_Mode</th>\n",
       "      <th>Gender</th>\n",
       "      <th>Age</th>\n",
       "      <th>Income (USD/Month)</th>\n",
       "      <th>Population</th>\n",
       "      <th>Users</th>\n",
       "      <th>holiday</th>\n",
       "    </tr>\n",
       "  </thead>\n",
       "  <tbody>\n",
       "    <tr>\n",
       "      <th>0</th>\n",
       "      <td>10000011</td>\n",
       "      <td>42377</td>\n",
       "      <td>Pink Cab</td>\n",
       "      <td>ATLANTA GA</td>\n",
       "      <td>30.45</td>\n",
       "      <td>370.95</td>\n",
       "      <td>313.6350</td>\n",
       "      <td>2016-01-08</td>\n",
       "      <td>29290</td>\n",
       "      <td>Card</td>\n",
       "      <td>Male</td>\n",
       "      <td>28</td>\n",
       "      <td>10813</td>\n",
       "      <td>814,885</td>\n",
       "      <td>24,701</td>\n",
       "      <td>0</td>\n",
       "    </tr>\n",
       "    <tr>\n",
       "      <th>1</th>\n",
       "      <td>10351127</td>\n",
       "      <td>43302</td>\n",
       "      <td>Yellow Cab</td>\n",
       "      <td>ATLANTA GA</td>\n",
       "      <td>26.19</td>\n",
       "      <td>598.70</td>\n",
       "      <td>317.4228</td>\n",
       "      <td>2018-07-21</td>\n",
       "      <td>29290</td>\n",
       "      <td>Cash</td>\n",
       "      <td>Male</td>\n",
       "      <td>28</td>\n",
       "      <td>10813</td>\n",
       "      <td>814,885</td>\n",
       "      <td>24,701</td>\n",
       "      <td>0</td>\n",
       "    </tr>\n",
       "    <tr>\n",
       "      <th>2</th>\n",
       "      <td>10412921</td>\n",
       "      <td>43427</td>\n",
       "      <td>Yellow Cab</td>\n",
       "      <td>ATLANTA GA</td>\n",
       "      <td>42.55</td>\n",
       "      <td>792.05</td>\n",
       "      <td>597.4020</td>\n",
       "      <td>2018-11-23</td>\n",
       "      <td>29290</td>\n",
       "      <td>Card</td>\n",
       "      <td>Male</td>\n",
       "      <td>28</td>\n",
       "      <td>10813</td>\n",
       "      <td>814,885</td>\n",
       "      <td>24,701</td>\n",
       "      <td>0</td>\n",
       "    </tr>\n",
       "    <tr>\n",
       "      <th>3</th>\n",
       "      <td>10000012</td>\n",
       "      <td>42375</td>\n",
       "      <td>Pink Cab</td>\n",
       "      <td>ATLANTA GA</td>\n",
       "      <td>28.62</td>\n",
       "      <td>358.52</td>\n",
       "      <td>334.8540</td>\n",
       "      <td>2016-01-06</td>\n",
       "      <td>27703</td>\n",
       "      <td>Card</td>\n",
       "      <td>Male</td>\n",
       "      <td>27</td>\n",
       "      <td>9237</td>\n",
       "      <td>814,885</td>\n",
       "      <td>24,701</td>\n",
       "      <td>0</td>\n",
       "    </tr>\n",
       "    <tr>\n",
       "      <th>4</th>\n",
       "      <td>10320494</td>\n",
       "      <td>43211</td>\n",
       "      <td>Yellow Cab</td>\n",
       "      <td>ATLANTA GA</td>\n",
       "      <td>36.38</td>\n",
       "      <td>721.10</td>\n",
       "      <td>467.1192</td>\n",
       "      <td>2018-04-21</td>\n",
       "      <td>27703</td>\n",
       "      <td>Card</td>\n",
       "      <td>Male</td>\n",
       "      <td>27</td>\n",
       "      <td>9237</td>\n",
       "      <td>814,885</td>\n",
       "      <td>24,701</td>\n",
       "      <td>0</td>\n",
       "    </tr>\n",
       "  </tbody>\n",
       "</table>\n",
       "</div>"
      ],
      "text/plain": [
       "   Transaction ID  Date of Travel     Company        City  KM Travelled  \\\n",
       "0        10000011           42377    Pink Cab  ATLANTA GA         30.45   \n",
       "1        10351127           43302  Yellow Cab  ATLANTA GA         26.19   \n",
       "2        10412921           43427  Yellow Cab  ATLANTA GA         42.55   \n",
       "3        10000012           42375    Pink Cab  ATLANTA GA         28.62   \n",
       "4        10320494           43211  Yellow Cab  ATLANTA GA         36.38   \n",
       "\n",
       "   Price Charged  Cost of Trip       Date  Customer ID Payment_Mode Gender  \\\n",
       "0         370.95      313.6350 2016-01-08        29290         Card   Male   \n",
       "1         598.70      317.4228 2018-07-21        29290         Cash   Male   \n",
       "2         792.05      597.4020 2018-11-23        29290         Card   Male   \n",
       "3         358.52      334.8540 2016-01-06        27703         Card   Male   \n",
       "4         721.10      467.1192 2018-04-21        27703         Card   Male   \n",
       "\n",
       "   Age  Income (USD/Month) Population     Users  holiday  \n",
       "0   28               10813   814,885    24,701         0  \n",
       "1   28               10813   814,885    24,701         0  \n",
       "2   28               10813   814,885    24,701         0  \n",
       "3   27                9237   814,885    24,701         0  \n",
       "4   27                9237   814,885    24,701         0  "
      ]
     },
     "execution_count": 82,
     "metadata": {},
     "output_type": "execute_result"
    }
   ],
   "source": [
    "df.head()"
   ]
  },
  {
   "cell_type": "code",
   "execution_count": 87,
   "id": "72fbbf43",
   "metadata": {},
   "outputs": [
    {
     "data": {
      "text/plain": [
       "Transaction ID        18644\n",
       "Date of Travel        18644\n",
       "Company               18644\n",
       "City                  18644\n",
       "KM Travelled          18644\n",
       "Price Charged         18644\n",
       "Cost of Trip          18644\n",
       "Date                  18644\n",
       "Customer ID           18644\n",
       "Payment_Mode          18644\n",
       "Gender                18644\n",
       "Age                   18644\n",
       "Income (USD/Month)    18644\n",
       "Population            18644\n",
       "Users                 18644\n",
       "holiday               18644\n",
       "dtype: int64"
      ]
     },
     "execution_count": 87,
     "metadata": {},
     "output_type": "execute_result"
    }
   ],
   "source": [
    "df[df['holiday']==1].count()"
   ]
  },
  {
   "cell_type": "code",
   "execution_count": 88,
   "id": "ee534d67",
   "metadata": {},
   "outputs": [
    {
     "data": {
      "text/plain": [
       "Transaction ID        340748\n",
       "Date of Travel        340748\n",
       "Company               340748\n",
       "City                  340748\n",
       "KM Travelled          340748\n",
       "Price Charged         340748\n",
       "Cost of Trip          340748\n",
       "Date                  340748\n",
       "Customer ID           340748\n",
       "Payment_Mode          340748\n",
       "Gender                340748\n",
       "Age                   340748\n",
       "Income (USD/Month)    340748\n",
       "Population            340748\n",
       "Users                 340748\n",
       "holiday               340748\n",
       "dtype: int64"
      ]
     },
     "execution_count": 88,
     "metadata": {},
     "output_type": "execute_result"
    }
   ],
   "source": [
    "df[df['holiday']==0].count()"
   ]
  },
  {
   "cell_type": "code",
   "execution_count": 89,
   "id": "e788c008",
   "metadata": {},
   "outputs": [
    {
     "name": "stdout",
     "output_type": "stream",
     "text": [
      "<class 'pandas.core.frame.DataFrame'>\n",
      "Int64Index: 359392 entries, 0 to 359391\n",
      "Data columns (total 16 columns):\n",
      " #   Column              Non-Null Count   Dtype         \n",
      "---  ------              --------------   -----         \n",
      " 0   Transaction ID      359392 non-null  int64         \n",
      " 1   Date of Travel      359392 non-null  int64         \n",
      " 2   Company             359392 non-null  object        \n",
      " 3   City                359392 non-null  object        \n",
      " 4   KM Travelled        359392 non-null  float64       \n",
      " 5   Price Charged       359392 non-null  float64       \n",
      " 6   Cost of Trip        359392 non-null  float64       \n",
      " 7   Date                359392 non-null  datetime64[ns]\n",
      " 8   Customer ID         359392 non-null  int64         \n",
      " 9   Payment_Mode        359392 non-null  object        \n",
      " 10  Gender              359392 non-null  object        \n",
      " 11  Age                 359392 non-null  int64         \n",
      " 12  Income (USD/Month)  359392 non-null  int64         \n",
      " 13  Population          359392 non-null  object        \n",
      " 14  Users               359392 non-null  object        \n",
      " 15  holiday             359392 non-null  int64         \n",
      "dtypes: datetime64[ns](1), float64(3), int64(6), object(6)\n",
      "memory usage: 46.6+ MB\n"
     ]
    }
   ],
   "source": [
    "df.info()"
   ]
  },
  {
   "cell_type": "markdown",
   "id": "55a8bf0e",
   "metadata": {},
   "source": [
    "## 2. EDA (Exploratory Data Analysis)"
   ]
  },
  {
   "cell_type": "code",
   "execution_count": 90,
   "id": "0f171d1f",
   "metadata": {},
   "outputs": [
    {
     "name": "stderr",
     "output_type": "stream",
     "text": [
      "/tmp/ipykernel_81233/2884002236.py:1: FutureWarning: Treating datetime data as categorical rather than numeric in `.describe` is deprecated and will be removed in a future version of pandas. Specify `datetime_is_numeric=True` to silence this warning and adopt the future behavior now.\n",
      "  df.describe(include='all')\n"
     ]
    },
    {
     "data": {
      "text/html": [
       "<div>\n",
       "<style scoped>\n",
       "    .dataframe tbody tr th:only-of-type {\n",
       "        vertical-align: middle;\n",
       "    }\n",
       "\n",
       "    .dataframe tbody tr th {\n",
       "        vertical-align: top;\n",
       "    }\n",
       "\n",
       "    .dataframe thead th {\n",
       "        text-align: right;\n",
       "    }\n",
       "</style>\n",
       "<table border=\"1\" class=\"dataframe\">\n",
       "  <thead>\n",
       "    <tr style=\"text-align: right;\">\n",
       "      <th></th>\n",
       "      <th>Transaction ID</th>\n",
       "      <th>Date of Travel</th>\n",
       "      <th>Company</th>\n",
       "      <th>City</th>\n",
       "      <th>KM Travelled</th>\n",
       "      <th>Price Charged</th>\n",
       "      <th>Cost of Trip</th>\n",
       "      <th>Date</th>\n",
       "      <th>Customer ID</th>\n",
       "      <th>Payment_Mode</th>\n",
       "      <th>Gender</th>\n",
       "      <th>Age</th>\n",
       "      <th>Income (USD/Month)</th>\n",
       "      <th>Population</th>\n",
       "      <th>Users</th>\n",
       "      <th>holiday</th>\n",
       "    </tr>\n",
       "  </thead>\n",
       "  <tbody>\n",
       "    <tr>\n",
       "      <th>count</th>\n",
       "      <td>3.593920e+05</td>\n",
       "      <td>359392.000000</td>\n",
       "      <td>359392</td>\n",
       "      <td>359392</td>\n",
       "      <td>359392.000000</td>\n",
       "      <td>359392.000000</td>\n",
       "      <td>359392.000000</td>\n",
       "      <td>359392</td>\n",
       "      <td>359392.000000</td>\n",
       "      <td>359392</td>\n",
       "      <td>359392</td>\n",
       "      <td>359392.000000</td>\n",
       "      <td>359392.000000</td>\n",
       "      <td>359392</td>\n",
       "      <td>359392</td>\n",
       "      <td>359392.000000</td>\n",
       "    </tr>\n",
       "    <tr>\n",
       "      <th>unique</th>\n",
       "      <td>NaN</td>\n",
       "      <td>NaN</td>\n",
       "      <td>2</td>\n",
       "      <td>19</td>\n",
       "      <td>NaN</td>\n",
       "      <td>NaN</td>\n",
       "      <td>NaN</td>\n",
       "      <td>1095</td>\n",
       "      <td>NaN</td>\n",
       "      <td>2</td>\n",
       "      <td>2</td>\n",
       "      <td>NaN</td>\n",
       "      <td>NaN</td>\n",
       "      <td>19</td>\n",
       "      <td>19</td>\n",
       "      <td>NaN</td>\n",
       "    </tr>\n",
       "    <tr>\n",
       "      <th>top</th>\n",
       "      <td>NaN</td>\n",
       "      <td>NaN</td>\n",
       "      <td>Yellow Cab</td>\n",
       "      <td>NEW YORK NY</td>\n",
       "      <td>NaN</td>\n",
       "      <td>NaN</td>\n",
       "      <td>NaN</td>\n",
       "      <td>2018-01-05 00:00:00</td>\n",
       "      <td>NaN</td>\n",
       "      <td>Card</td>\n",
       "      <td>Male</td>\n",
       "      <td>NaN</td>\n",
       "      <td>NaN</td>\n",
       "      <td>8,405,837</td>\n",
       "      <td>302,149</td>\n",
       "      <td>NaN</td>\n",
       "    </tr>\n",
       "    <tr>\n",
       "      <th>freq</th>\n",
       "      <td>NaN</td>\n",
       "      <td>NaN</td>\n",
       "      <td>274681</td>\n",
       "      <td>99885</td>\n",
       "      <td>NaN</td>\n",
       "      <td>NaN</td>\n",
       "      <td>NaN</td>\n",
       "      <td>2022</td>\n",
       "      <td>NaN</td>\n",
       "      <td>215504</td>\n",
       "      <td>205912</td>\n",
       "      <td>NaN</td>\n",
       "      <td>NaN</td>\n",
       "      <td>99885</td>\n",
       "      <td>99885</td>\n",
       "      <td>NaN</td>\n",
       "    </tr>\n",
       "    <tr>\n",
       "      <th>first</th>\n",
       "      <td>NaN</td>\n",
       "      <td>NaN</td>\n",
       "      <td>NaN</td>\n",
       "      <td>NaN</td>\n",
       "      <td>NaN</td>\n",
       "      <td>NaN</td>\n",
       "      <td>NaN</td>\n",
       "      <td>2016-01-02 00:00:00</td>\n",
       "      <td>NaN</td>\n",
       "      <td>NaN</td>\n",
       "      <td>NaN</td>\n",
       "      <td>NaN</td>\n",
       "      <td>NaN</td>\n",
       "      <td>NaN</td>\n",
       "      <td>NaN</td>\n",
       "      <td>NaN</td>\n",
       "    </tr>\n",
       "    <tr>\n",
       "      <th>last</th>\n",
       "      <td>NaN</td>\n",
       "      <td>NaN</td>\n",
       "      <td>NaN</td>\n",
       "      <td>NaN</td>\n",
       "      <td>NaN</td>\n",
       "      <td>NaN</td>\n",
       "      <td>NaN</td>\n",
       "      <td>2018-12-31 00:00:00</td>\n",
       "      <td>NaN</td>\n",
       "      <td>NaN</td>\n",
       "      <td>NaN</td>\n",
       "      <td>NaN</td>\n",
       "      <td>NaN</td>\n",
       "      <td>NaN</td>\n",
       "      <td>NaN</td>\n",
       "      <td>NaN</td>\n",
       "    </tr>\n",
       "    <tr>\n",
       "      <th>mean</th>\n",
       "      <td>1.022076e+07</td>\n",
       "      <td>42964.067998</td>\n",
       "      <td>NaN</td>\n",
       "      <td>NaN</td>\n",
       "      <td>22.567254</td>\n",
       "      <td>423.443311</td>\n",
       "      <td>286.190113</td>\n",
       "      <td>NaN</td>\n",
       "      <td>19191.652115</td>\n",
       "      <td>NaN</td>\n",
       "      <td>NaN</td>\n",
       "      <td>35.336705</td>\n",
       "      <td>15048.822937</td>\n",
       "      <td>NaN</td>\n",
       "      <td>NaN</td>\n",
       "      <td>0.051877</td>\n",
       "    </tr>\n",
       "    <tr>\n",
       "      <th>std</th>\n",
       "      <td>1.268058e+05</td>\n",
       "      <td>307.467197</td>\n",
       "      <td>NaN</td>\n",
       "      <td>NaN</td>\n",
       "      <td>12.233526</td>\n",
       "      <td>274.378911</td>\n",
       "      <td>157.993661</td>\n",
       "      <td>NaN</td>\n",
       "      <td>21012.412463</td>\n",
       "      <td>NaN</td>\n",
       "      <td>NaN</td>\n",
       "      <td>12.594234</td>\n",
       "      <td>7969.409482</td>\n",
       "      <td>NaN</td>\n",
       "      <td>NaN</td>\n",
       "      <td>0.221778</td>\n",
       "    </tr>\n",
       "    <tr>\n",
       "      <th>min</th>\n",
       "      <td>1.000001e+07</td>\n",
       "      <td>42371.000000</td>\n",
       "      <td>NaN</td>\n",
       "      <td>NaN</td>\n",
       "      <td>1.900000</td>\n",
       "      <td>15.600000</td>\n",
       "      <td>19.000000</td>\n",
       "      <td>NaN</td>\n",
       "      <td>1.000000</td>\n",
       "      <td>NaN</td>\n",
       "      <td>NaN</td>\n",
       "      <td>18.000000</td>\n",
       "      <td>2000.000000</td>\n",
       "      <td>NaN</td>\n",
       "      <td>NaN</td>\n",
       "      <td>0.000000</td>\n",
       "    </tr>\n",
       "    <tr>\n",
       "      <th>25%</th>\n",
       "      <td>1.011081e+07</td>\n",
       "      <td>42697.000000</td>\n",
       "      <td>NaN</td>\n",
       "      <td>NaN</td>\n",
       "      <td>12.000000</td>\n",
       "      <td>206.437500</td>\n",
       "      <td>151.200000</td>\n",
       "      <td>NaN</td>\n",
       "      <td>2705.000000</td>\n",
       "      <td>NaN</td>\n",
       "      <td>NaN</td>\n",
       "      <td>25.000000</td>\n",
       "      <td>8424.000000</td>\n",
       "      <td>NaN</td>\n",
       "      <td>NaN</td>\n",
       "      <td>0.000000</td>\n",
       "    </tr>\n",
       "    <tr>\n",
       "      <th>50%</th>\n",
       "      <td>1.022104e+07</td>\n",
       "      <td>42988.000000</td>\n",
       "      <td>NaN</td>\n",
       "      <td>NaN</td>\n",
       "      <td>22.440000</td>\n",
       "      <td>386.360000</td>\n",
       "      <td>282.480000</td>\n",
       "      <td>NaN</td>\n",
       "      <td>7459.000000</td>\n",
       "      <td>NaN</td>\n",
       "      <td>NaN</td>\n",
       "      <td>33.000000</td>\n",
       "      <td>14685.000000</td>\n",
       "      <td>NaN</td>\n",
       "      <td>NaN</td>\n",
       "      <td>0.000000</td>\n",
       "    </tr>\n",
       "    <tr>\n",
       "      <th>75%</th>\n",
       "      <td>1.033094e+07</td>\n",
       "      <td>43232.000000</td>\n",
       "      <td>NaN</td>\n",
       "      <td>NaN</td>\n",
       "      <td>32.960000</td>\n",
       "      <td>583.660000</td>\n",
       "      <td>413.683200</td>\n",
       "      <td>NaN</td>\n",
       "      <td>36078.000000</td>\n",
       "      <td>NaN</td>\n",
       "      <td>NaN</td>\n",
       "      <td>42.000000</td>\n",
       "      <td>21035.000000</td>\n",
       "      <td>NaN</td>\n",
       "      <td>NaN</td>\n",
       "      <td>0.000000</td>\n",
       "    </tr>\n",
       "    <tr>\n",
       "      <th>max</th>\n",
       "      <td>1.044011e+07</td>\n",
       "      <td>43465.000000</td>\n",
       "      <td>NaN</td>\n",
       "      <td>NaN</td>\n",
       "      <td>48.000000</td>\n",
       "      <td>2048.030000</td>\n",
       "      <td>691.200000</td>\n",
       "      <td>NaN</td>\n",
       "      <td>60000.000000</td>\n",
       "      <td>NaN</td>\n",
       "      <td>NaN</td>\n",
       "      <td>65.000000</td>\n",
       "      <td>35000.000000</td>\n",
       "      <td>NaN</td>\n",
       "      <td>NaN</td>\n",
       "      <td>1.000000</td>\n",
       "    </tr>\n",
       "  </tbody>\n",
       "</table>\n",
       "</div>"
      ],
      "text/plain": [
       "        Transaction ID  Date of Travel     Company         City  \\\n",
       "count     3.593920e+05   359392.000000      359392       359392   \n",
       "unique             NaN             NaN           2           19   \n",
       "top                NaN             NaN  Yellow Cab  NEW YORK NY   \n",
       "freq               NaN             NaN      274681        99885   \n",
       "first              NaN             NaN         NaN          NaN   \n",
       "last               NaN             NaN         NaN          NaN   \n",
       "mean      1.022076e+07    42964.067998         NaN          NaN   \n",
       "std       1.268058e+05      307.467197         NaN          NaN   \n",
       "min       1.000001e+07    42371.000000         NaN          NaN   \n",
       "25%       1.011081e+07    42697.000000         NaN          NaN   \n",
       "50%       1.022104e+07    42988.000000         NaN          NaN   \n",
       "75%       1.033094e+07    43232.000000         NaN          NaN   \n",
       "max       1.044011e+07    43465.000000         NaN          NaN   \n",
       "\n",
       "         KM Travelled  Price Charged   Cost of Trip                 Date  \\\n",
       "count   359392.000000  359392.000000  359392.000000               359392   \n",
       "unique            NaN            NaN            NaN                 1095   \n",
       "top               NaN            NaN            NaN  2018-01-05 00:00:00   \n",
       "freq              NaN            NaN            NaN                 2022   \n",
       "first             NaN            NaN            NaN  2016-01-02 00:00:00   \n",
       "last              NaN            NaN            NaN  2018-12-31 00:00:00   \n",
       "mean        22.567254     423.443311     286.190113                  NaN   \n",
       "std         12.233526     274.378911     157.993661                  NaN   \n",
       "min          1.900000      15.600000      19.000000                  NaN   \n",
       "25%         12.000000     206.437500     151.200000                  NaN   \n",
       "50%         22.440000     386.360000     282.480000                  NaN   \n",
       "75%         32.960000     583.660000     413.683200                  NaN   \n",
       "max         48.000000    2048.030000     691.200000                  NaN   \n",
       "\n",
       "          Customer ID Payment_Mode  Gender            Age  Income (USD/Month)  \\\n",
       "count   359392.000000       359392  359392  359392.000000       359392.000000   \n",
       "unique            NaN            2       2            NaN                 NaN   \n",
       "top               NaN         Card    Male            NaN                 NaN   \n",
       "freq              NaN       215504  205912            NaN                 NaN   \n",
       "first             NaN          NaN     NaN            NaN                 NaN   \n",
       "last              NaN          NaN     NaN            NaN                 NaN   \n",
       "mean     19191.652115          NaN     NaN      35.336705        15048.822937   \n",
       "std      21012.412463          NaN     NaN      12.594234         7969.409482   \n",
       "min          1.000000          NaN     NaN      18.000000         2000.000000   \n",
       "25%       2705.000000          NaN     NaN      25.000000         8424.000000   \n",
       "50%       7459.000000          NaN     NaN      33.000000        14685.000000   \n",
       "75%      36078.000000          NaN     NaN      42.000000        21035.000000   \n",
       "max      60000.000000          NaN     NaN      65.000000        35000.000000   \n",
       "\n",
       "         Population      Users        holiday  \n",
       "count        359392     359392  359392.000000  \n",
       "unique           19         19            NaN  \n",
       "top      8,405,837    302,149             NaN  \n",
       "freq          99885      99885            NaN  \n",
       "first           NaN        NaN            NaN  \n",
       "last            NaN        NaN            NaN  \n",
       "mean            NaN        NaN       0.051877  \n",
       "std             NaN        NaN       0.221778  \n",
       "min             NaN        NaN       0.000000  \n",
       "25%             NaN        NaN       0.000000  \n",
       "50%             NaN        NaN       0.000000  \n",
       "75%             NaN        NaN       0.000000  \n",
       "max             NaN        NaN       1.000000  "
      ]
     },
     "execution_count": 90,
     "metadata": {},
     "output_type": "execute_result"
    }
   ],
   "source": [
    "df.describe(include='all')"
   ]
  },
  {
   "cell_type": "markdown",
   "id": "b42c45c4",
   "metadata": {},
   "source": [
    "### Pink Cab vs Yellow Cab\n",
    "\n",
    "I want to compare pink cab and yellow cab 's data to answer following:\n",
    "\n",
    "1. Profit\n",
    "2. Customer Summary\n",
    "3. City Summary\n",
    "4. Holiday Effect"
   ]
  },
  {
   "cell_type": "code",
   "execution_count": 100,
   "id": "55612eb9",
   "metadata": {},
   "outputs": [],
   "source": [
    "# Creating new interesting features\n",
    "df['Profit']       = df['Price Charged'] - df['Cost of Trip']\n",
    "df['Profit Rate']  = df['Profit']/df['Cost of Trip']\n",
    "df['Profit per KM']= df['Profit']/df['KM Travelled']\n",
    "\n",
    "df['Users']        = df['Users'].str.replace(',','')\n",
    "df['Population']   = df['Population'].str.replace(',','')\n",
    "\n",
    "df['Customer Rate']= df['Users'].astype(int)/df['Population'].astype(int)\n",
    "\n",
    "df['Month']        = df['Date'].dt.month\n",
    "df['Year']         = df['Date'].dt.year\n"
   ]
  },
  {
   "cell_type": "code",
   "execution_count": 101,
   "id": "ec1a4975",
   "metadata": {},
   "outputs": [
    {
     "data": {
      "text/html": [
       "<div>\n",
       "<style scoped>\n",
       "    .dataframe tbody tr th:only-of-type {\n",
       "        vertical-align: middle;\n",
       "    }\n",
       "\n",
       "    .dataframe tbody tr th {\n",
       "        vertical-align: top;\n",
       "    }\n",
       "\n",
       "    .dataframe thead th {\n",
       "        text-align: right;\n",
       "    }\n",
       "</style>\n",
       "<table border=\"1\" class=\"dataframe\">\n",
       "  <thead>\n",
       "    <tr style=\"text-align: right;\">\n",
       "      <th></th>\n",
       "      <th>Transaction ID</th>\n",
       "      <th>Date of Travel</th>\n",
       "      <th>Company</th>\n",
       "      <th>City</th>\n",
       "      <th>KM Travelled</th>\n",
       "      <th>Price Charged</th>\n",
       "      <th>Cost of Trip</th>\n",
       "      <th>Date</th>\n",
       "      <th>Customer ID</th>\n",
       "      <th>Payment_Mode</th>\n",
       "      <th>...</th>\n",
       "      <th>Income (USD/Month)</th>\n",
       "      <th>Population</th>\n",
       "      <th>Users</th>\n",
       "      <th>holiday</th>\n",
       "      <th>Profit</th>\n",
       "      <th>Profit Rate</th>\n",
       "      <th>Profit per KM</th>\n",
       "      <th>Customer Rate</th>\n",
       "      <th>Month</th>\n",
       "      <th>Year</th>\n",
       "    </tr>\n",
       "  </thead>\n",
       "  <tbody>\n",
       "    <tr>\n",
       "      <th>0</th>\n",
       "      <td>10000011</td>\n",
       "      <td>42377</td>\n",
       "      <td>Pink Cab</td>\n",
       "      <td>ATLANTA GA</td>\n",
       "      <td>30.45</td>\n",
       "      <td>370.95</td>\n",
       "      <td>313.6350</td>\n",
       "      <td>2016-01-08</td>\n",
       "      <td>29290</td>\n",
       "      <td>Card</td>\n",
       "      <td>...</td>\n",
       "      <td>10813</td>\n",
       "      <td>814885</td>\n",
       "      <td>24701</td>\n",
       "      <td>0</td>\n",
       "      <td>57.3150</td>\n",
       "      <td>0.182744</td>\n",
       "      <td>1.882266</td>\n",
       "      <td>0.030312</td>\n",
       "      <td>1</td>\n",
       "      <td>2016</td>\n",
       "    </tr>\n",
       "    <tr>\n",
       "      <th>1</th>\n",
       "      <td>10351127</td>\n",
       "      <td>43302</td>\n",
       "      <td>Yellow Cab</td>\n",
       "      <td>ATLANTA GA</td>\n",
       "      <td>26.19</td>\n",
       "      <td>598.70</td>\n",
       "      <td>317.4228</td>\n",
       "      <td>2018-07-21</td>\n",
       "      <td>29290</td>\n",
       "      <td>Cash</td>\n",
       "      <td>...</td>\n",
       "      <td>10813</td>\n",
       "      <td>814885</td>\n",
       "      <td>24701</td>\n",
       "      <td>0</td>\n",
       "      <td>281.2772</td>\n",
       "      <td>0.886128</td>\n",
       "      <td>10.739870</td>\n",
       "      <td>0.030312</td>\n",
       "      <td>7</td>\n",
       "      <td>2018</td>\n",
       "    </tr>\n",
       "    <tr>\n",
       "      <th>2</th>\n",
       "      <td>10412921</td>\n",
       "      <td>43427</td>\n",
       "      <td>Yellow Cab</td>\n",
       "      <td>ATLANTA GA</td>\n",
       "      <td>42.55</td>\n",
       "      <td>792.05</td>\n",
       "      <td>597.4020</td>\n",
       "      <td>2018-11-23</td>\n",
       "      <td>29290</td>\n",
       "      <td>Card</td>\n",
       "      <td>...</td>\n",
       "      <td>10813</td>\n",
       "      <td>814885</td>\n",
       "      <td>24701</td>\n",
       "      <td>0</td>\n",
       "      <td>194.6480</td>\n",
       "      <td>0.325824</td>\n",
       "      <td>4.574571</td>\n",
       "      <td>0.030312</td>\n",
       "      <td>11</td>\n",
       "      <td>2018</td>\n",
       "    </tr>\n",
       "    <tr>\n",
       "      <th>3</th>\n",
       "      <td>10000012</td>\n",
       "      <td>42375</td>\n",
       "      <td>Pink Cab</td>\n",
       "      <td>ATLANTA GA</td>\n",
       "      <td>28.62</td>\n",
       "      <td>358.52</td>\n",
       "      <td>334.8540</td>\n",
       "      <td>2016-01-06</td>\n",
       "      <td>27703</td>\n",
       "      <td>Card</td>\n",
       "      <td>...</td>\n",
       "      <td>9237</td>\n",
       "      <td>814885</td>\n",
       "      <td>24701</td>\n",
       "      <td>0</td>\n",
       "      <td>23.6660</td>\n",
       "      <td>0.070676</td>\n",
       "      <td>0.826904</td>\n",
       "      <td>0.030312</td>\n",
       "      <td>1</td>\n",
       "      <td>2016</td>\n",
       "    </tr>\n",
       "    <tr>\n",
       "      <th>4</th>\n",
       "      <td>10320494</td>\n",
       "      <td>43211</td>\n",
       "      <td>Yellow Cab</td>\n",
       "      <td>ATLANTA GA</td>\n",
       "      <td>36.38</td>\n",
       "      <td>721.10</td>\n",
       "      <td>467.1192</td>\n",
       "      <td>2018-04-21</td>\n",
       "      <td>27703</td>\n",
       "      <td>Card</td>\n",
       "      <td>...</td>\n",
       "      <td>9237</td>\n",
       "      <td>814885</td>\n",
       "      <td>24701</td>\n",
       "      <td>0</td>\n",
       "      <td>253.9808</td>\n",
       "      <td>0.543717</td>\n",
       "      <td>6.981330</td>\n",
       "      <td>0.030312</td>\n",
       "      <td>4</td>\n",
       "      <td>2018</td>\n",
       "    </tr>\n",
       "  </tbody>\n",
       "</table>\n",
       "<p>5 rows × 22 columns</p>\n",
       "</div>"
      ],
      "text/plain": [
       "   Transaction ID  Date of Travel     Company        City  KM Travelled  \\\n",
       "0        10000011           42377    Pink Cab  ATLANTA GA         30.45   \n",
       "1        10351127           43302  Yellow Cab  ATLANTA GA         26.19   \n",
       "2        10412921           43427  Yellow Cab  ATLANTA GA         42.55   \n",
       "3        10000012           42375    Pink Cab  ATLANTA GA         28.62   \n",
       "4        10320494           43211  Yellow Cab  ATLANTA GA         36.38   \n",
       "\n",
       "   Price Charged  Cost of Trip       Date  Customer ID Payment_Mode  ...  \\\n",
       "0         370.95      313.6350 2016-01-08        29290         Card  ...   \n",
       "1         598.70      317.4228 2018-07-21        29290         Cash  ...   \n",
       "2         792.05      597.4020 2018-11-23        29290         Card  ...   \n",
       "3         358.52      334.8540 2016-01-06        27703         Card  ...   \n",
       "4         721.10      467.1192 2018-04-21        27703         Card  ...   \n",
       "\n",
       "  Income (USD/Month)  Population    Users holiday    Profit  Profit Rate  \\\n",
       "0              10813     814885    24701        0   57.3150     0.182744   \n",
       "1              10813     814885    24701        0  281.2772     0.886128   \n",
       "2              10813     814885    24701        0  194.6480     0.325824   \n",
       "3               9237     814885    24701        0   23.6660     0.070676   \n",
       "4               9237     814885    24701        0  253.9808     0.543717   \n",
       "\n",
       "   Profit per KM  Customer Rate  Month  Year  \n",
       "0       1.882266       0.030312      1  2016  \n",
       "1      10.739870       0.030312      7  2018  \n",
       "2       4.574571       0.030312     11  2018  \n",
       "3       0.826904       0.030312      1  2016  \n",
       "4       6.981330       0.030312      4  2018  \n",
       "\n",
       "[5 rows x 22 columns]"
      ]
     },
     "execution_count": 101,
     "metadata": {},
     "output_type": "execute_result"
    }
   ],
   "source": [
    "df.head()"
   ]
  },
  {
   "cell_type": "code",
   "execution_count": 102,
   "id": "7b078cb7",
   "metadata": {},
   "outputs": [],
   "source": [
    "import matplotlib.pyplot as plt\n",
    "import seaborn as sns"
   ]
  },
  {
   "cell_type": "markdown",
   "id": "d9dd16cd",
   "metadata": {},
   "source": [
    "### 2.1 Profit Comparasion\n",
    "\n",
    "#### 2.1.1 Profit Comparasion Plot "
   ]
  },
  {
   "cell_type": "code",
   "execution_count": 103,
   "id": "dfc10c80",
   "metadata": {},
   "outputs": [
    {
     "data": {
      "text/plain": [
       "<AxesSubplot:xlabel='Profit', ylabel='Count'>"
      ]
     },
     "execution_count": 103,
     "metadata": {},
     "output_type": "execute_result"
    },
    {
     "data": {
      "image/png": "[encoded data removed]",
      "text/plain": [
       "<Figure size 432x288 with 1 Axes>"
      ]
     },
     "metadata": {
      "needs_background": "light"
     },
     "output_type": "display_data"
    }
   ],
   "source": [
    "sns.histplot(data = df, x=\"Profit\", hue = \"Company\", kde=True)"
   ]
  },
  {
   "cell_type": "code",
   "execution_count": 104,
   "id": "7ad3270e",
   "metadata": {},
   "outputs": [
    {
     "data": {
      "text/plain": [
       "<AxesSubplot:xlabel='Profit Rate', ylabel='Count'>"
      ]
     },
     "execution_count": 104,
     "metadata": {},
     "output_type": "execute_result"
    },
    {
     "data": {
      "image/png": "[encoded data removed]",
      "text/plain": [
       "<Figure size 432x288 with 1 Axes>"
      ]
     },
     "metadata": {
      "needs_background": "light"
     },
     "output_type": "display_data"
    }
   ],
   "source": [
    "sns.histplot(data = df, x=\"Profit Rate\", hue = \"Company\", kde=True)"
   ]
  },
  {
   "cell_type": "code",
   "execution_count": 105,
   "id": "820b2ec8",
   "metadata": {},
   "outputs": [
    {
     "data": {
      "text/plain": [
       "<AxesSubplot:xlabel='Profit per KM', ylabel='Count'>"
      ]
     },
     "execution_count": 105,
     "metadata": {},
     "output_type": "execute_result"
    },
    {
     "data": {
      "image/png": "[encoded data removed]",
      "text/plain": [
       "<Figure size 432x288 with 1 Axes>"
      ]
     },
     "metadata": {
      "needs_background": "light"
     },
     "output_type": "display_data"
    }
   ],
   "source": [
    "sns.histplot(data = df, x=\"Profit per KM\", hue = \"Company\", kde=True)"
   ]
  },
  {
   "cell_type": "markdown",
   "id": "6872877b",
   "metadata": {},
   "source": [
    "#### 2.1.2. Profit Monthly Plot"
   ]
  },
  {
   "cell_type": "code",
   "execution_count": 110,
   "id": "09ae3389",
   "metadata": {},
   "outputs": [
    {
     "name": "stdout",
     "output_type": "stream",
     "text": [
      "<class 'pandas.core.frame.DataFrame'>\n",
      "Int64Index: 359392 entries, 0 to 359391\n",
      "Data columns (total 22 columns):\n",
      " #   Column              Non-Null Count   Dtype         \n",
      "---  ------              --------------   -----         \n",
      " 0   Transaction ID      359392 non-null  int64         \n",
      " 1   Date of Travel      359392 non-null  int64         \n",
      " 2   Company             359392 non-null  object        \n",
      " 3   City                359392 non-null  object        \n",
      " 4   KM Travelled        359392 non-null  float64       \n",
      " 5   Price Charged       359392 non-null  float64       \n",
      " 6   Cost of Trip        359392 non-null  float64       \n",
      " 7   Date                359392 non-null  datetime64[ns]\n",
      " 8   Customer ID         359392 non-null  int64         \n",
      " 9   Payment_Mode        359392 non-null  object        \n",
      " 10  Gender              359392 non-null  object        \n",
      " 11  Age                 359392 non-null  int64         \n",
      " 12  Income (USD/Month)  359392 non-null  int64         \n",
      " 13  Population          359392 non-null  object        \n",
      " 14  Users               359392 non-null  object        \n",
      " 15  holiday             359392 non-null  int64         \n",
      " 16  Profit              359392 non-null  float64       \n",
      " 17  Profit Rate         359392 non-null  float64       \n",
      " 18  Profit per KM       359392 non-null  float64       \n",
      " 19  Customer Rate       359392 non-null  float64       \n",
      " 20  Month               359392 non-null  int64         \n",
      " 21  Year                359392 non-null  int64         \n",
      "dtypes: datetime64[ns](1), float64(7), int64(8), object(6)\n",
      "memory usage: 71.1+ MB\n"
     ]
    }
   ],
   "source": [
    "df.info()"
   ]
  },
  {
   "cell_type": "code",
   "execution_count": 118,
   "id": "6c9ce398",
   "metadata": {},
   "outputs": [],
   "source": [
    "Monthly_rate = df.groupby(['Month', 'Company']).mean()"
   ]
  },
  {
   "cell_type": "code",
   "execution_count": 119,
   "id": "6e8fb5e0",
   "metadata": {},
   "outputs": [],
   "source": [
    "Monthly_Profit_rate = Monthly_rate['Profit Rate']"
   ]
  },
  {
   "cell_type": "code",
   "execution_count": 120,
   "id": "dfae6ad2",
   "metadata": {},
   "outputs": [
    {
     "data": {
      "text/plain": [
       "Month  Company   \n",
       "1      Pink Cab      0.313792\n",
       "       Yellow Cab    0.623443\n",
       "2      Pink Cab      0.305108\n",
       "       Yellow Cab    0.673256\n",
       "3      Pink Cab      0.281947\n",
       "       Yellow Cab    0.614161\n",
       "4      Pink Cab      0.246736\n",
       "       Yellow Cab    0.601415\n",
       "5      Pink Cab      0.139662\n",
       "       Yellow Cab    0.722468\n",
       "6      Pink Cab      0.161451\n",
       "       Yellow Cab    0.644309\n",
       "7      Pink Cab      0.188902\n",
       "       Yellow Cab    0.458159\n",
       "8      Pink Cab      0.205970\n",
       "       Yellow Cab    0.410962\n",
       "9      Pink Cab      0.209426\n",
       "       Yellow Cab    0.516431\n",
       "10     Pink Cab      0.270152\n",
       "       Yellow Cab    0.476729\n",
       "11     Pink Cab      0.300569\n",
       "       Yellow Cab    0.490647\n",
       "12     Pink Cab      0.360401\n",
       "       Yellow Cab    0.496574\n",
       "Name: Profit Rate, dtype: float64"
      ]
     },
     "execution_count": 120,
     "metadata": {},
     "output_type": "execute_result"
    }
   ],
   "source": [
    "Monthly_Profit_rate"
   ]
  },
  {
   "cell_type": "code",
   "execution_count": 126,
   "id": "4232b97b",
   "metadata": {},
   "outputs": [
    {
     "data": {
      "text/plain": [
       "<AxesSubplot:xlabel='Month'>"
      ]
     },
     "execution_count": 126,
     "metadata": {},
     "output_type": "execute_result"
    },
    {
     "data": {
      "image/png": "[encoded data removed]",
      "text/plain": [
       "<Figure size 432x288 with 1 Axes>"
      ]
     },
     "metadata": {
      "needs_background": "light"
     },
     "output_type": "display_data"
    }
   ],
   "source": [
    "Monthly_Profit_rate.unstack().plot(kind='bar')"
   ]
  },
  {
   "cell_type": "markdown",
   "id": "816c4fe8",
   "metadata": {},
   "source": [
    "#### 2.1.3 Profit Yearly Plot"
   ]
  },
  {
   "cell_type": "code",
   "execution_count": 129,
   "id": "fbe5ee7a",
   "metadata": {},
   "outputs": [],
   "source": [
    "Yearly_rate = df.groupby(['Year', 'Company']).mean()\n",
    "Yearly_Profit_rate = Yearly_rate['Profit Rate']"
   ]
  },
  {
   "cell_type": "code",
   "execution_count": 130,
   "id": "def42c6c",
   "metadata": {},
   "outputs": [
    {
     "data": {
      "text/plain": [
       "Year  Company   \n",
       "2016  Pink Cab      0.279103\n",
       "      Yellow Cab    0.572142\n",
       "2017  Pink Cab      0.273194\n",
       "      Yellow Cab    0.572450\n",
       "2018  Pink Cab      0.217275\n",
       "      Yellow Cab    0.486794\n",
       "Name: Profit Rate, dtype: float64"
      ]
     },
     "execution_count": 130,
     "metadata": {},
     "output_type": "execute_result"
    }
   ],
   "source": [
    "Yearly_Profit_rate"
   ]
  },
  {
   "cell_type": "code",
   "execution_count": 131,
   "id": "a89487cf",
   "metadata": {},
   "outputs": [
    {
     "data": {
      "text/plain": [
       "<AxesSubplot:xlabel='Year'>"
      ]
     },
     "execution_count": 131,
     "metadata": {},
     "output_type": "execute_result"
    },
    {
     "data": {
      "image/png": "[encoded data removed]",
      "text/plain": [
       "<Figure size 432x288 with 1 Axes>"
      ]
     },
     "metadata": {
      "needs_background": "light"
     },
     "output_type": "display_data"
    }
   ],
   "source": [
    "Yearly_Profit_rate.unstack().plot(kind='bar')"
   ]
  },
  {
   "cell_type": "markdown",
   "id": "1e6a8499",
   "metadata": {},
   "source": [
    "#### 2.1.4 Profit Comparasion Summary\n",
    "\n",
    "Both companies have strong right skew distributions. Comparing two companies, Yellow Cab profit is higher than Pink Cab. I also look at monthly and yearly profit rate for each company. Profit rates in 2016 and 2017 do not change but profit rates drop in 2018. Yellow Cab has the most profit rates in May but Pink Cab has the most profit in December"
   ]
  },
  {
   "cell_type": "markdown",
   "id": "e2961be3",
   "metadata": {},
   "source": [
    "### 2.2 Customer Summary\n",
    "\n",
    "#### 2.2.1 Gender"
   ]
  },
  {
   "cell_type": "code",
   "execution_count": 134,
   "id": "00d02928",
   "metadata": {},
   "outputs": [
    {
     "data": {
      "text/plain": [
       "Text(0.5, 1.0, 'Gender Ratio (Combined two cab companies)')"
      ]
     },
     "execution_count": 134,
     "metadata": {},
     "output_type": "execute_result"
    },
    {
     "data": {
      "image/png": "[encoded data removed]",
      "text/plain": [
       "<Figure size 432x288 with 1 Axes>"
      ]
     },
     "metadata": {},
     "output_type": "display_data"
    }
   ],
   "source": [
    "# define Seaborn color palette to use\n",
    "palette_color = sns.color_palette('bright')\n",
    "\n",
    "\n",
    "data = [100.0* len(df[df['Gender']=='Male'])/len(df), 100.0* len(df[df['Gender']=='Female'])/len(df)]\n",
    "keys = ['Male', 'Female']\n",
    "\n",
    "# plotting data on chart\n",
    "plt.pie(data, labels=keys, colors=palette_color, autopct='%.0f%%')\n",
    "plt.title(\"Gender Ratio (Combined two cab companies)\")"
   ]
  },
  {
   "cell_type": "code",
   "execution_count": 139,
   "id": "90f27812",
   "metadata": {},
   "outputs": [
    {
     "data": {
      "text/plain": [
       "Text(0.5, 1.0, 'Yellow Cap Gender Ratio')"
      ]
     },
     "execution_count": 139,
     "metadata": {},
     "output_type": "execute_result"
    },
    {
     "data": {
      "image/png": "[encoded data removed]",
      "text/plain": [
       "<Figure size 432x288 with 1 Axes>"
      ]
     },
     "metadata": {},
     "output_type": "display_data"
    }
   ],
   "source": [
    "# Yellow Cab \n",
    "m = len(df[(df['Gender'] == 'Male') & (df['Company'] == 'Yellow Cab')])\n",
    "f = len(df[(df['Gender'] == 'Female') & (df['Company'] == 'Yellow Cab')])\n",
    "t = len(df[df['Company'] == 'Yellow Cab'])\n",
    "\n",
    "data = [100.0* m/t, 100.0* f/t]\n",
    "keys = ['Male', 'Female']\n",
    "\n",
    "# plotting data on chart\n",
    "plt.pie(data, labels=keys, colors=palette_color, autopct='%.0f%%')\n",
    "plt.title(\"Yellow Cap Gender Ratio\")"
   ]
  },
  {
   "cell_type": "code",
   "execution_count": 141,
   "id": "58cb1fe7",
   "metadata": {},
   "outputs": [
    {
     "data": {
      "text/plain": [
       "Text(0.5, 1.0, 'Pink Cap Gender Ratio')"
      ]
     },
     "execution_count": 141,
     "metadata": {},
     "output_type": "execute_result"
    },
    {
     "data": {
      "image/png": "[encoded data removed]",
      "text/plain": [
       "<Figure size 432x288 with 1 Axes>"
      ]
     },
     "metadata": {},
     "output_type": "display_data"
    }
   ],
   "source": [
    "# Pink Cab \n",
    "m = len(df[(df['Gender'] == 'Male') & (df['Company'] == 'Pink Cab')])\n",
    "f = len(df[(df['Gender'] == 'Female') & (df['Company'] == 'Pink Cab')])\n",
    "t = len(df[df['Company'] == 'Pink Cab'])\n",
    "\n",
    "data = [100.0* m/t, 100.0* f/t]\n",
    "keys = ['Male', 'Female']\n",
    "\n",
    "# plotting data on chart\n",
    "plt.pie(data, labels=keys, colors=palette_color, autopct='%.0f%%')\n",
    "plt.title(\"Pink Cap Gender Ratio\")"
   ]
  },
  {
   "cell_type": "markdown",
   "id": "257017a5",
   "metadata": {},
   "source": [
    "Gender ratio is similiar to both cap companies. Male is about 57% and Female is about 43%. "
   ]
  },
  {
   "cell_type": "markdown",
   "id": "67a68b2c",
   "metadata": {},
   "source": [
    "#### 2.2.2 Age"
   ]
  },
  {
   "cell_type": "code",
   "execution_count": 152,
   "id": "0e571061",
   "metadata": {},
   "outputs": [
    {
     "name": "stdout",
     "output_type": "stream",
     "text": [
      "[22437, 116430, 112735, 47017, 38087, 22686]\n"
     ]
    },
    {
     "data": {
      "text/plain": [
       "Text(0.5, 1.0, 'Age Range Ratio')"
      ]
     },
     "execution_count": 152,
     "metadata": {},
     "output_type": "execute_result"
    },
    {
     "data": {
      "image/png": "[encoded data removed]",
      "text/plain": [
       "<Figure size 432x288 with 1 Axes>"
      ]
     },
     "metadata": {},
     "output_type": "display_data"
    }
   ],
   "source": [
    "# Calculate the range of ages for each decade\n",
    "age_ranges = [10, 20, 30, 40, 50, 60]\n",
    "bin_counts = [0, 0 ,0, 0, 0, 0]\n",
    "\n",
    "for age in df['Age']:\n",
    "    idx = (age-10)//10\n",
    "    bin_counts[idx] += 1\n",
    "\n",
    "print(bin_counts)\n",
    "bin_counts = np.array(bin_counts)*100/sum(bin_counts)\n",
    "\n",
    "# plotting data on chart\n",
    "plt.pie(bin_counts, labels=age_ranges, colors=palette_color, autopct='%.0f%%')\n",
    "plt.title(\"Age Range Ratio\")\n"
   ]
  },
  {
   "cell_type": "code",
   "execution_count": 157,
   "id": "dd495e42",
   "metadata": {},
   "outputs": [
    {
     "name": "stdout",
     "output_type": "stream",
     "text": [
      "[16940, 88960, 86327, 36086, 29111, 17257]\n"
     ]
    },
    {
     "data": {
      "text/plain": [
       "Text(0.5, 1.0, 'Yellow Cab Age Range Ratio')"
      ]
     },
     "execution_count": 157,
     "metadata": {},
     "output_type": "execute_result"
    },
    {
     "data": {
      "image/png": "[encoded data removed]",
      "text/plain": [
       "<Figure size 432x288 with 1 Axes>"
      ]
     },
     "metadata": {},
     "output_type": "display_data"
    }
   ],
   "source": [
    "# Yellow Cab\n",
    "bin_counts = [0, 0 ,0, 0, 0, 0]\n",
    "\n",
    "for age in df[df['Company']=='Yellow Cab']['Age']:\n",
    "    idx = (age-10)//10\n",
    "    bin_counts[idx] += 1\n",
    "\n",
    "print(bin_counts)\n",
    "bin_counts = np.array(bin_counts)*100/sum(bin_counts)\n",
    "\n",
    "# plotting data on chart\n",
    "plt.pie(bin_counts, labels=age_ranges, colors=palette_color, autopct='%.0f%%')\n",
    "plt.title(\"Yellow Cab Age Range Ratio\")"
   ]
  },
  {
   "cell_type": "code",
   "execution_count": 156,
   "id": "db1c32a0",
   "metadata": {},
   "outputs": [
    {
     "name": "stdout",
     "output_type": "stream",
     "text": [
      "[5497, 27470, 26408, 10931, 8976, 5429]\n"
     ]
    },
    {
     "data": {
      "text/plain": [
       "Text(0.5, 1.0, 'Pink Cab Age Range Ratio')"
      ]
     },
     "execution_count": 156,
     "metadata": {},
     "output_type": "execute_result"
    },
    {
     "data": {
      "image/png": "[encoded data removed]",
      "text/plain": [
       "<Figure size 432x288 with 1 Axes>"
      ]
     },
     "metadata": {},
     "output_type": "display_data"
    }
   ],
   "source": [
    "# Pink Cab\n",
    "bin_counts = [0, 0 ,0, 0, 0, 0]\n",
    "\n",
    "for age in df[df['Company']=='Pink Cab']['Age']:\n",
    "    idx = (age-10)//10\n",
    "    bin_counts[idx] += 1\n",
    "\n",
    "print(bin_counts)\n",
    "bin_counts = np.array(bin_counts)*100/sum(bin_counts)\n",
    "\n",
    "# plotting data on chart\n",
    "plt.pie(bin_counts, labels=age_ranges, colors=palette_color, autopct='%.0f%%')\n",
    "plt.title(\"Pink Cab Age Range Ratio\")"
   ]
  },
  {
   "cell_type": "markdown",
   "id": "d9ae014f",
   "metadata": {},
   "source": [
    "Age ratio is exactly same for both cab companies. No difference found."
   ]
  },
  {
   "cell_type": "markdown",
   "id": "53b69f54",
   "metadata": {},
   "source": [
    "#### 2.2.3 Income "
   ]
  },
  {
   "cell_type": "code",
   "execution_count": 160,
   "id": "7dcd7fcf",
   "metadata": {},
   "outputs": [
    {
     "data": {
      "text/plain": [
       "<AxesSubplot:xlabel='Income (USD/Month)', ylabel='Count'>"
      ]
     },
     "execution_count": 160,
     "metadata": {},
     "output_type": "execute_result"
    },
    {
     "data": {
      "image/png": "[encoded data removed]",
      "text/plain": [
       "<Figure size 432x288 with 1 Axes>"
      ]
     },
     "metadata": {
      "needs_background": "light"
     },
     "output_type": "display_data"
    }
   ],
   "source": [
    "sns.histplot(data=df, x = 'Income (USD/Month)')  "
   ]
  },
  {
   "cell_type": "code",
   "execution_count": 161,
   "id": "d306e457",
   "metadata": {},
   "outputs": [
    {
     "data": {
      "text/plain": [
       "<AxesSubplot:xlabel='Income (USD/Month)', ylabel='Count'>"
      ]
     },
     "execution_count": 161,
     "metadata": {},
     "output_type": "execute_result"
    },
    {
     "data": {
      "image/png": "[encoded data removed]",
      "text/plain": [
       "<Figure size 432x288 with 1 Axes>"
      ]
     },
     "metadata": {
      "needs_background": "light"
     },
     "output_type": "display_data"
    }
   ],
   "source": [
    "sns.histplot(data=df, x = 'Income (USD/Month)', hue='Company', kde=True)  "
   ]
  },
  {
   "cell_type": "markdown",
   "id": "141427ba",
   "metadata": {},
   "source": [
    "I do not find any significant difference on customer's incomes between two cab companies\n",
    "\n",
    "#### 2.2.4 Payment Type"
   ]
  },
  {
   "cell_type": "code",
   "execution_count": 163,
   "id": "186b97e9",
   "metadata": {},
   "outputs": [
    {
     "data": {
      "text/plain": [
       "Text(0.5, 1.0, 'Payment Type Ratio (Combined two cab companies)')"
      ]
     },
     "execution_count": 163,
     "metadata": {},
     "output_type": "execute_result"
    },
    {
     "data": {
      "image/png": "[encoded data removed]",
      "text/plain": [
       "<Figure size 432x288 with 1 Axes>"
      ]
     },
     "metadata": {},
     "output_type": "display_data"
    }
   ],
   "source": [
    "data = [100.0* len(df[df['Payment_Mode']=='Card'])/len(df), 100.0* len(df[df['Payment_Mode']=='Cash'])/len(df)]\n",
    "keys = ['Card', 'Cash']\n",
    "\n",
    "# plotting data on chart\n",
    "plt.pie(data, labels=keys, colors=palette_color, autopct='%.0f%%')\n",
    "plt.title(\"Payment Type Ratio (Combined two cab companies)\")"
   ]
  },
  {
   "cell_type": "code",
   "execution_count": 164,
   "id": "86c08883",
   "metadata": {},
   "outputs": [
    {
     "data": {
      "text/plain": [
       "Text(0.5, 1.0, 'Yellow Cap Payment Type Ratio')"
      ]
     },
     "execution_count": 164,
     "metadata": {},
     "output_type": "execute_result"
    },
    {
     "data": {
      "image/png": "[encoded data removed]",
      "text/plain": [
       "<Figure size 432x288 with 1 Axes>"
      ]
     },
     "metadata": {},
     "output_type": "display_data"
    }
   ],
   "source": [
    "# Yellow Cab \n",
    "m = len(df[(df['Payment_Mode'] == 'Card') & (df['Company'] == 'Yellow Cab')])\n",
    "f = len(df[(df['Payment_Mode'] == 'Cash') & (df['Company'] == 'Yellow Cab')])\n",
    "t = len(df[df['Company'] == 'Yellow Cab'])\n",
    "\n",
    "data = [100.0* m/t, 100.0* f/t]\n",
    "\n",
    "# plotting data on chart\n",
    "plt.pie(data, labels=keys, colors=palette_color, autopct='%.0f%%')\n",
    "plt.title(\"Yellow Cap Payment Type Ratio\")"
   ]
  },
  {
   "cell_type": "code",
   "execution_count": 165,
   "id": "10cd03bb",
   "metadata": {},
   "outputs": [
    {
     "data": {
      "text/plain": [
       "Text(0.5, 1.0, 'Pink Cap Payment Type Ratio')"
      ]
     },
     "execution_count": 165,
     "metadata": {},
     "output_type": "execute_result"
    },
    {
     "data": {
      "image/png": "[encoded data removed]",
      "text/plain": [
       "<Figure size 432x288 with 1 Axes>"
      ]
     },
     "metadata": {},
     "output_type": "display_data"
    }
   ],
   "source": [
    "# Pink Cab \n",
    "m = len(df[(df['Payment_Mode'] == 'Card') & (df['Company'] == 'Pink Cab')])\n",
    "f = len(df[(df['Payment_Mode'] == 'Cash') & (df['Company'] == 'Pink Cab')])\n",
    "t = len(df[df['Company'] == 'Pink Cab'])\n",
    "\n",
    "data = [100.0* m/t, 100.0* f/t]\n",
    "\n",
    "# plotting data on chart\n",
    "plt.pie(data, labels=keys, colors=palette_color, autopct='%.0f%%')\n",
    "plt.title(\"Pink Cap Payment Type Ratio\")"
   ]
  },
  {
   "cell_type": "markdown",
   "id": "d75475b2",
   "metadata": {},
   "source": [
    "There is no differece between payment type ratio on both cab compaines.\n",
    "\n",
    "#### 2.2.5 Summary"
   ]
  },
  {
   "cell_type": "markdown",
   "id": "181e1564",
   "metadata": {},
   "source": [
    "From customer dataset, I do not find any statsitcal difference between two cab companies. Ratio is almost identical on age/gender/income/ and payment type. "
   ]
  },
  {
   "cell_type": "markdown",
   "id": "fe7f554b",
   "metadata": {},
   "source": [
    "### 2.3 City Summary"
   ]
  },
  {
   "cell_type": "code",
   "execution_count": 166,
   "id": "0781cf1e",
   "metadata": {},
   "outputs": [
    {
     "data": {
      "text/plain": [
       "array(['ATLANTA GA', 'AUSTIN TX', 'BOSTON MA', 'CHICAGO IL', 'DALLAS TX',\n",
       "       'DENVER CO', 'LOS ANGELES CA', 'MIAMI FL', 'NASHVILLE TN',\n",
       "       'NEW YORK NY', 'ORANGE COUNTY', 'PHOENIX AZ', 'PITTSBURGH PA',\n",
       "       'SACRAMENTO CA', 'SAN DIEGO CA', 'SEATTLE WA', 'SILICON VALLEY',\n",
       "       'TUCSON AZ', 'WASHINGTON DC'], dtype=object)"
      ]
     },
     "execution_count": 166,
     "metadata": {},
     "output_type": "execute_result"
    }
   ],
   "source": [
    "df[\"City\"].unique()"
   ]
  },
  {
   "cell_type": "code",
   "execution_count": 167,
   "id": "0fd6f1ba",
   "metadata": {},
   "outputs": [
    {
     "data": {
      "text/plain": [
       "19"
      ]
     },
     "execution_count": 167,
     "metadata": {},
     "output_type": "execute_result"
    }
   ],
   "source": [
    "df[\"City\"].nunique()"
   ]
  },
  {
   "cell_type": "markdown",
   "id": "065ffdba",
   "metadata": {},
   "source": [
    "There are 19 cities in the dataset."
   ]
  },
  {
   "cell_type": "code",
   "execution_count": 170,
   "id": "318669fb",
   "metadata": {},
   "outputs": [
    {
     "data": {
      "text/plain": [
       "NEW YORK NY       99885\n",
       "CHICAGO IL        56625\n",
       "LOS ANGELES CA    48033\n",
       "WASHINGTON DC     43737\n",
       "BOSTON MA         29692\n",
       "SAN DIEGO CA      20488\n",
       "SILICON VALLEY     8519\n",
       "SEATTLE WA         7997\n",
       "ATLANTA GA         7557\n",
       "DALLAS TX          7017\n",
       "MIAMI FL           6454\n",
       "AUSTIN TX          4896\n",
       "ORANGE COUNTY      3982\n",
       "DENVER CO          3825\n",
       "NASHVILLE TN       3010\n",
       "SACRAMENTO CA      2367\n",
       "PHOENIX AZ         2064\n",
       "TUCSON AZ          1931\n",
       "PITTSBURGH PA      1313\n",
       "Name: City, dtype: int64"
      ]
     },
     "execution_count": 170,
     "metadata": {},
     "output_type": "execute_result"
    }
   ],
   "source": [
    "df[\"City\"].value_counts()"
   ]
  },
  {
   "cell_type": "markdown",
   "id": "94ad5649",
   "metadata": {},
   "source": [
    "#### 2.3.1 City - Profit Correlation"
   ]
  },
  {
   "cell_type": "code",
   "execution_count": 175,
   "id": "1396e660",
   "metadata": {},
   "outputs": [],
   "source": [
    "city_company = df.groupby(['City', 'Company']).mean()\n",
    "city_company_profit = city_company['Profit Rate']"
   ]
  },
  {
   "cell_type": "code",
   "execution_count": 176,
   "id": "7404b212",
   "metadata": {},
   "outputs": [
    {
     "data": {
      "text/plain": [
       "City            Company   \n",
       "ATLANTA GA      Pink Cab      0.223666\n",
       "                Yellow Cab    0.443459\n",
       "AUSTIN TX       Pink Cab      0.331246\n",
       "                Yellow Cab    0.426399\n",
       "BOSTON MA       Pink Cab      0.206820\n",
       "                Yellow Cab    0.209912\n",
       "CHICAGO IL      Pink Cab      0.140626\n",
       "                Yellow Cab    0.220534\n",
       "DALLAS TX       Pink Cab      0.078347\n",
       "                Yellow Cab    0.661560\n",
       "DENVER CO       Pink Cab      0.119615\n",
       "                Yellow Cab    0.499406\n",
       "LOS ANGELES CA  Pink Cab      0.231137\n",
       "                Yellow Cab    0.393751\n",
       "MIAMI FL        Pink Cab      0.330047\n",
       "                Yellow Cab    0.449017\n",
       "NASHVILLE TN    Pink Cab      0.142436\n",
       "                Yellow Cab    0.246218\n",
       "NEW YORK NY     Pink Cab      0.439939\n",
       "                Yellow Cab    1.042671\n",
       "ORANGE COUNTY   Pink Cab      0.276253\n",
       "                Yellow Cab    0.492021\n",
       "PHOENIX AZ      Pink Cab      0.176218\n",
       "                Yellow Cab    0.446256\n",
       "PITTSBURGH PA   Pink Cab      0.100066\n",
       "                Yellow Cab    0.356017\n",
       "SACRAMENTO CA   Pink Cab      0.168406\n",
       "                Yellow Cab    0.201501\n",
       "SAN DIEGO CA    Pink Cab      0.243701\n",
       "                Yellow Cab    0.330455\n",
       "SEATTLE WA      Pink Cab      0.169269\n",
       "                Yellow Cab    0.317302\n",
       "SILICON VALLEY  Pink Cab      0.358289\n",
       "                Yellow Cab    0.689790\n",
       "TUCSON AZ       Pink Cab      0.300748\n",
       "                Yellow Cab    0.243149\n",
       "WASHINGTON DC   Pink Cab      0.213667\n",
       "                Yellow Cab    0.279154\n",
       "Name: Profit Rate, dtype: float64"
      ]
     },
     "execution_count": 176,
     "metadata": {},
     "output_type": "execute_result"
    }
   ],
   "source": [
    "city_company_profit"
   ]
  },
  {
   "cell_type": "code",
   "execution_count": 178,
   "id": "061d31f8",
   "metadata": {},
   "outputs": [
    {
     "data": {
      "text/plain": [
       "Text(0.5, 1.0, 'Profit Rate for each city')"
      ]
     },
     "execution_count": 178,
     "metadata": {},
     "output_type": "execute_result"
    },
    {
     "data": {
      "image/png": "[encoded data removed]",
      "text/plain": [
       "<Figure size 432x288 with 1 Axes>"
      ]
     },
     "metadata": {
      "needs_background": "light"
     },
     "output_type": "display_data"
    }
   ],
   "source": [
    "city_company_profit.unstack().plot(kind='bar')\n",
    "plt.title(\"Profit Rate for each city\")"
   ]
  },
  {
   "cell_type": "markdown",
   "id": "94245c3a",
   "metadata": {},
   "source": [
    "From the profit rate per city plot, NYC has the highest profit rate for both pink and yello cabs and Silcon Valley is the next highest profit rate for both cab companies. However, I can find a few cities that are interested in: Dallas, Denver, Pittsburgh, Tucson, and D.C. Yello cab has such a high profit rate on three cities: Dallas, Denver, and Pittsburgh. Tucson is only city Pink Cab has higher profit rate than Yellow Cab. "
   ]
  },
  {
   "cell_type": "markdown",
   "id": "d9f3ae01",
   "metadata": {},
   "source": [
    "### 2.4 Holiday Effect"
   ]
  },
  {
   "cell_type": "code",
   "execution_count": 185,
   "id": "add14d55",
   "metadata": {},
   "outputs": [
    {
     "data": {
      "text/plain": [
       "Text(0.5, 1.0, 'Pink Cap Payment Type Ratio')"
      ]
     },
     "execution_count": 185,
     "metadata": {},
     "output_type": "execute_result"
    },
    {
     "data": {
      "image/png": "[encoded data removed]",
      "text/plain": [
       "<Figure size 432x288 with 1 Axes>"
      ]
     },
     "metadata": {},
     "output_type": "display_data"
    }
   ],
   "source": [
    "data = [100.0* len(df[df['holiday']==1])/len(df), 100.0* len(df[df['holiday']==0])/len(df)]\n",
    "keys = ['Holiday', 'Not Holiday']\n",
    "\n",
    "# plotting data on chart\n",
    "plt.pie(data, labels=keys, colors=palette_color, autopct='%.0f%%')\n",
    "plt.title(\"Pink Cap Payment Type Ratio\")"
   ]
  },
  {
   "cell_type": "code",
   "execution_count": 186,
   "id": "143007ab",
   "metadata": {},
   "outputs": [
    {
     "data": {
      "text/plain": [
       "0    340748\n",
       "1     18644\n",
       "Name: holiday, dtype: int64"
      ]
     },
     "execution_count": 186,
     "metadata": {},
     "output_type": "execute_result"
    }
   ],
   "source": [
    "df['holiday'].value_counts()"
   ]
  },
  {
   "cell_type": "markdown",
   "id": "d823b58f",
   "metadata": {},
   "source": [
    "#### 2.4.1 Holiday - Profit Correlation"
   ]
  },
  {
   "cell_type": "code",
   "execution_count": 187,
   "id": "c9f17e66",
   "metadata": {},
   "outputs": [],
   "source": [
    "holiday_comp = df.groupby(['holiday', 'Company']).mean()\n",
    "holiday_comp_profit = holiday_comp['Profit Rate']"
   ]
  },
  {
   "cell_type": "code",
   "execution_count": 188,
   "id": "11735745",
   "metadata": {},
   "outputs": [
    {
     "data": {
      "text/plain": [
       "holiday  Company   \n",
       "0        Pink Cab      0.257055\n",
       "         Yellow Cab    0.541681\n",
       "1        Pink Cab      0.226796\n",
       "         Yellow Cab    0.565926\n",
       "Name: Profit Rate, dtype: float64"
      ]
     },
     "execution_count": 188,
     "metadata": {},
     "output_type": "execute_result"
    }
   ],
   "source": [
    "holiday_comp_profit"
   ]
  },
  {
   "cell_type": "markdown",
   "id": "efeaa75b",
   "metadata": {},
   "source": [
    "There is an interesting fact that Pink Cab actually has lower profit rate on Holiday unlike Yellow Cab."
   ]
  },
  {
   "cell_type": "markdown",
   "id": "81b22e5c",
   "metadata": {},
   "source": [
    "## 3. Feature Engineer"
   ]
  },
  {
   "cell_type": "markdown",
   "id": "374ab71c",
   "metadata": {},
   "source": [
    "### 3.1 Box Plot"
   ]
  },
  {
   "cell_type": "code",
   "execution_count": 190,
   "id": "04e2acde",
   "metadata": {},
   "outputs": [
    {
     "data": {
      "text/plain": [
       "<AxesSubplot:xlabel='Price Charged', ylabel='Company'>"
      ]
     },
     "execution_count": 190,
     "metadata": {},
     "output_type": "execute_result"
    },
    {
     "data": {
      "image/png": "[encoded data removed]",
      "text/plain": [
       "<Figure size 432x288 with 1 Axes>"
      ]
     },
     "metadata": {
      "needs_background": "light"
     },
     "output_type": "display_data"
    }
   ],
   "source": [
    "sns.boxplot(data = df, x = \"Price Charged\", dodge=False, y=\"Company\")"
   ]
  },
  {
   "cell_type": "code",
   "execution_count": 192,
   "id": "f4b92c01",
   "metadata": {},
   "outputs": [
    {
     "data": {
      "text/plain": [
       "<AxesSubplot:xlabel='Profit Rate', ylabel='Company'>"
      ]
     },
     "execution_count": 192,
     "metadata": {},
     "output_type": "execute_result"
    },
    {
     "data": {
      "image/png": "[encoded data removed]",
      "text/plain": [
       "<Figure size 432x288 with 1 Axes>"
      ]
     },
     "metadata": {
      "needs_background": "light"
     },
     "output_type": "display_data"
    }
   ],
   "source": [
    "sns.boxplot(data = df, x = \"Profit Rate\", dodge=False, y=\"Company\")"
   ]
  },
  {
   "cell_type": "markdown",
   "id": "6391f8f4",
   "metadata": {},
   "source": [
    "For Price Charged and Profit Rate, Yellow Cab has higher median value and higher proportion with higher price which cause higher profit rate"
   ]
  },
  {
   "cell_type": "code",
   "execution_count": 196,
   "id": "813fe32c",
   "metadata": {},
   "outputs": [
    {
     "data": {
      "text/plain": [
       "<AxesSubplot:xlabel='Users', ylabel='Company'>"
      ]
     },
     "execution_count": 196,
     "metadata": {},
     "output_type": "execute_result"
    },
    {
     "data": {
      "image/png": "[encoded data removed]",
      "text/plain": [
       "<Figure size 432x288 with 1 Axes>"
      ]
     },
     "metadata": {
      "needs_background": "light"
     },
     "output_type": "display_data"
    }
   ],
   "source": [
    "df[\"Users\"] = df[\"Users\"].astype(int)\n",
    "sns.boxplot(data = df, x = \"Users\", dodge=False, y=\"Company\")"
   ]
  },
  {
   "cell_type": "code",
   "execution_count": 199,
   "id": "a8cc66e9",
   "metadata": {},
   "outputs": [
    {
     "data": {
      "text/plain": [
       "<AxesSubplot:xlabel='Population', ylabel='Company'>"
      ]
     },
     "execution_count": 199,
     "metadata": {},
     "output_type": "execute_result"
    },
    {
     "data": {
      "image/png": "[encoded data removed]",
      "text/plain": [
       "<Figure size 432x288 with 1 Axes>"
      ]
     },
     "metadata": {
      "needs_background": "light"
     },
     "output_type": "display_data"
    }
   ],
   "source": [
    "df[\"Population\"] = df[\"Population\"].astype(int)\n",
    "sns.boxplot(data = df, x = \"Population\", dodge=False, y=\"Company\")"
   ]
  },
  {
   "cell_type": "markdown",
   "id": "7d4169f4",
   "metadata": {},
   "source": [
    "Users and population box plots indicate that Pink Cab is mainly runnig smaller cities and Yello cab is running mainly bigger cities"
   ]
  },
  {
   "cell_type": "markdown",
   "id": "36dfdc0c",
   "metadata": {},
   "source": [
    "### 3.2 Heat Map Plot"
   ]
  },
  {
   "cell_type": "code",
   "execution_count": 213,
   "id": "618e2205",
   "metadata": {},
   "outputs": [
    {
     "data": {
      "text/plain": [
       "<AxesSubplot:>"
      ]
     },
     "execution_count": 213,
     "metadata": {},
     "output_type": "execute_result"
    },
    {
     "data": {
      "image/png": "[encoded data removed]",
      "text/plain": [
       "<Figure size 1440x720 with 2 Axes>"
      ]
     },
     "metadata": {
      "needs_background": "light"
     },
     "output_type": "display_data"
    }
   ],
   "source": [
    "df_ = df.drop(columns=[\"Transaction ID\", \"Customer ID\"])\n",
    "corr = df_.corr()\n",
    "plt.figure(figsize=(20,10))\n",
    "sns.heatmap(corr,annot=True,vmin=-1,vmax=1, cmap='coolwarm')"
   ]
  },
  {
   "cell_type": "code",
   "execution_count": 214,
   "id": "9a8902d3",
   "metadata": {},
   "outputs": [
    {
     "data": {
      "text/plain": [
       "<AxesSubplot:>"
      ]
     },
     "execution_count": 214,
     "metadata": {},
     "output_type": "execute_result"
    },
    {
     "data": {
      "image/png": "[encoded data removed]",
      "text/plain": [
       "<Figure size 1440x720 with 2 Axes>"
      ]
     },
     "metadata": {
      "needs_background": "light"
     },
     "output_type": "display_data"
    }
   ],
   "source": [
    "# Pink Cab\n",
    "pink_df = df_[df_[\"Company\"] == \"Pink Cab\"]\n",
    "pink_corr = pink_df.corr()\n",
    "plt.figure(figsize=(20,10))\n",
    "sns.heatmap(pink_corr,annot=True,vmin=-1,vmax=1, cmap='coolwarm')"
   ]
  },
  {
   "cell_type": "code",
   "execution_count": 215,
   "id": "2dcb078c",
   "metadata": {},
   "outputs": [
    {
     "data": {
      "text/plain": [
       "<AxesSubplot:>"
      ]
     },
     "execution_count": 215,
     "metadata": {},
     "output_type": "execute_result"
    },
    {
     "data": {
      "image/png": "[encoded data removed]",
      "text/plain": [
       "<Figure size 1440x720 with 2 Axes>"
      ]
     },
     "metadata": {
      "needs_background": "light"
     },
     "output_type": "display_data"
    }
   ],
   "source": [
    "# Yellow Cab\n",
    "yellow_df = df_[df_[\"Company\"] == \"Yellow Cab\"]\n",
    "yellow_corr = yellow_df.corr()\n",
    "plt.figure(figsize=(20,10))\n",
    "sns.heatmap(yellow_corr,annot=True,vmin=-1,vmax=1, cmap='coolwarm')"
   ]
  },
  {
   "cell_type": "code",
   "execution_count": null,
   "id": "353ffbfa",
   "metadata": {},
   "outputs": [],
   "source": []
  }
 ],
 "metadata": {
  "kernelspec": {
   "display_name": "Python 3 (ipykernel)",
   "language": "python",
   "name": "python3"
  },
  "language_info": {
   "codemirror_mode": {
    "name": "ipython",
    "version": 3
   },
   "file_extension": ".py",
   "mimetype": "text/x-python",
   "name": "python",
   "nbconvert_exporter": "python",
   "pygments_lexer": "ipython3",
   "version": "3.10.6"
  }
 },
 "nbformat": 4,
 "nbformat_minor": 5
}
